{
  "cells": [
    {
      "cell_type": "markdown",
      "metadata": {
        "id": "view-in-github",
        "colab_type": "text"
      },
      "source": [
        "<a href=\"https://colab.research.google.com/github/sameeraltaf/Data-science-progress/blob/main/Starter_notebook_checkpoint_HPT.ipynb\" target=\"_parent\"><img src=\"https://colab.research.google.com/assets/colab-badge.svg\" alt=\"Open In Colab\"/></a>"
      ]
    },
    {
      "cell_type": "markdown",
      "metadata": {
        "id": "77b4743b"
      },
      "source": [
        "<img src='https://radiant-assets.s3-us-west-2.amazonaws.com/PrimaryRadiantMLHubLogo.png' alt='Radiant MLHub Logo' width='300'/>\n",
        "\n",
        "# A Baseline Model for the AgrifieldNet India Competition\n",
        "\n",
        "This notebook walks you through the steps to load the data and build a baseline model using Random Forests for `AgrifieldNet India Competition`."
      ],
      "id": "77b4743b"
    },
    {
      "cell_type": "markdown",
      "metadata": {
        "id": "501972cf"
      },
      "source": [
        "## Radiant MLHub API\n",
        "\n",
        "\n",
        "The Radiant MLHub API gives access to open Earth imagery training data for machine learning applications. You can learn more about the repository at the [Radiant MLHub site](https://mlhub.earth) and about the organization behind it at the [Radiant Earth Foundation site](https://radiant.earth).\n",
        "\n",
        "Full documentation for the API is available at [docs.mlhub.earth](docs.mlhub.earth).\n",
        "\n",
        "Each item in our collection is explained in json format compliant with [STAC](https://stacspec.org/) [label extension](https://github.com/radiantearth/stac-spec/tree/master/extensions/label) definition."
      ],
      "id": "501972cf"
    },
    {
      "cell_type": "markdown",
      "metadata": {
        "id": "be36e335"
      },
      "source": [
        "## Dependencies\n",
        "\n",
        "This notebook utilizes the [`radiant-mlhub` Python client](https://pypi.org/project/radiant-mlhub/) for interacting with the API. This notebook also utilizes the [`pandas` library](https://pandas.pydata.org/). If you are running this notebooks using Binder, then these dependencies have already been installed. If you are running this notebook locally, you will need to install these yourself.\n",
        "\n",
        "See the official [`radiant-mlhub` docs](https://radiant-mlhub.readthedocs.io/) for more documentation of the full functionality of that library."
      ],
      "id": "be36e335"
    },
    {
      "cell_type": "code",
      "execution_count": 16,
      "metadata": {
        "id": "m8Ej3_i7_dJK"
      },
      "outputs": [],
      "source": [],
      "id": "m8Ej3_i7_dJK"
    },
    {
      "cell_type": "code",
      "execution_count": 17,
      "metadata": {
        "colab": {
          "base_uri": "https://localhost:8080/"
        },
        "id": "28ea6e7d",
        "outputId": "fd80b18b-9f6d-428a-ec84-92427deaedee"
      },
      "outputs": [
        {
          "output_type": "stream",
          "name": "stdout",
          "text": [
            "Looking in indexes: https://pypi.org/simple, https://us-python.pkg.dev/colab-wheels/public/simple/\n",
            "Requirement already satisfied: radiant_mlhub in /usr/local/lib/python3.7/dist-packages (0.4.1)\n",
            "Requirement already satisfied: click<9.0.0,>=7.1.2 in /usr/local/lib/python3.7/dist-packages (from radiant_mlhub) (7.1.2)\n",
            "Requirement already satisfied: requests~=2.25 in /usr/local/lib/python3.7/dist-packages (from radiant_mlhub) (2.28.1)\n",
            "Requirement already satisfied: typing-extensions>=3.7 in /usr/local/lib/python3.7/dist-packages (from radiant_mlhub) (4.1.1)\n",
            "Requirement already satisfied: pystac~=1.1 in /usr/local/lib/python3.7/dist-packages (from radiant_mlhub) (1.5.0)\n",
            "Requirement already satisfied: tqdm~=4.56 in /usr/local/lib/python3.7/dist-packages (from radiant_mlhub) (4.64.1)\n",
            "Requirement already satisfied: python-dateutil>=2.7.0 in /usr/local/lib/python3.7/dist-packages (from pystac~=1.1->radiant_mlhub) (2.8.2)\n",
            "Requirement already satisfied: six>=1.5 in /usr/local/lib/python3.7/dist-packages (from python-dateutil>=2.7.0->pystac~=1.1->radiant_mlhub) (1.15.0)\n",
            "Requirement already satisfied: urllib3<1.27,>=1.21.1 in /usr/local/lib/python3.7/dist-packages (from requests~=2.25->radiant_mlhub) (1.24.3)\n",
            "Requirement already satisfied: certifi>=2017.4.17 in /usr/local/lib/python3.7/dist-packages (from requests~=2.25->radiant_mlhub) (2022.9.24)\n",
            "Requirement already satisfied: charset-normalizer<3,>=2 in /usr/local/lib/python3.7/dist-packages (from requests~=2.25->radiant_mlhub) (2.1.1)\n",
            "Requirement already satisfied: idna<4,>=2.5 in /usr/local/lib/python3.7/dist-packages (from requests~=2.25->radiant_mlhub) (2.10)\n",
            "Looking in indexes: https://pypi.org/simple, https://us-python.pkg.dev/colab-wheels/public/simple/\n",
            "Requirement already satisfied: rasterio in /usr/local/lib/python3.7/dist-packages (1.2.10)\n",
            "Requirement already satisfied: snuggs>=1.4.1 in /usr/local/lib/python3.7/dist-packages (from rasterio) (1.4.7)\n",
            "Requirement already satisfied: click>=4.0 in /usr/local/lib/python3.7/dist-packages (from rasterio) (7.1.2)\n",
            "Requirement already satisfied: click-plugins in /usr/local/lib/python3.7/dist-packages (from rasterio) (1.1.1)\n",
            "Requirement already satisfied: setuptools in /usr/local/lib/python3.7/dist-packages (from rasterio) (57.4.0)\n",
            "Requirement already satisfied: affine in /usr/local/lib/python3.7/dist-packages (from rasterio) (2.3.1)\n",
            "Requirement already satisfied: numpy in /usr/local/lib/python3.7/dist-packages (from rasterio) (1.21.6)\n",
            "Requirement already satisfied: certifi in /usr/local/lib/python3.7/dist-packages (from rasterio) (2022.9.24)\n",
            "Requirement already satisfied: attrs in /usr/local/lib/python3.7/dist-packages (from rasterio) (22.1.0)\n",
            "Requirement already satisfied: cligj>=0.5 in /usr/local/lib/python3.7/dist-packages (from rasterio) (0.7.2)\n",
            "Requirement already satisfied: pyparsing>=2.1.6 in /usr/local/lib/python3.7/dist-packages (from snuggs>=1.4.1->rasterio) (3.0.9)\n"
          ]
        }
      ],
      "source": [
        "#import libraries\n",
        "!pip install radiant_mlhub\n",
        "!pip install rasterio\n",
        "import os\n",
        "import glob\n",
        "import json\n",
        "import getpass\n",
        "import rasterio\n",
        "import numpy as np\n",
        "import pandas as pd\n",
        "from tqdm import tqdm\n",
        "from radiant_mlhub import Dataset\n",
        "from sklearn.ensemble import RandomForestClassifier\n",
        "from sklearn.model_selection import train_test_split"
      ],
      "id": "28ea6e7d"
    },
    {
      "cell_type": "markdown",
      "metadata": {
        "id": "835834a1"
      },
      "source": [
        "# DOWNLOAD DATA FROM MLHUB"
      ],
      "id": "835834a1"
    },
    {
      "cell_type": "code",
      "execution_count": 18,
      "metadata": {
        "colab": {
          "base_uri": "https://localhost:8080/"
        },
        "id": "f7ed2188",
        "outputId": "e77aef3d-e4e8-4eb2-e0a4-b7956e8b8bb9"
      },
      "outputs": [
        {
          "output_type": "execute_result",
          "data": {
            "text/plain": [
              "['B01',\n",
              " 'B02',\n",
              " 'B03',\n",
              " 'B04',\n",
              " 'B05',\n",
              " 'B06',\n",
              " 'B07',\n",
              " 'B08',\n",
              " 'B8A',\n",
              " 'B09',\n",
              " 'B11',\n",
              " 'B12']"
            ]
          },
          "metadata": {},
          "execution_count": 18
        }
      ],
      "source": [
        "#For simplicity we select 4 out 12 bands for the this baseline model\n",
        "\n",
        "Full_bands = ['B01', 'B02', 'B03', 'B04','B05', 'B06', 'B07', 'B08','B8A', 'B09', 'B11', 'B12']\n",
        "\n",
        "selected_bands = Full_bands[0:-1]  + [Full_bands[11]]  #'B02', 'B03', 'B04', 'B08'\n",
        "selected_bands"
      ],
      "id": "f7ed2188"
    },
    {
      "cell_type": "code",
      "source": [
        "#!pip install matplotlib\n",
        "#%matplotlib inline"
      ],
      "metadata": {
        "id": "n_-vH2i6ItEu"
      },
      "id": "n_-vH2i6ItEu",
      "execution_count": 19,
      "outputs": []
    },
    {
      "cell_type": "code",
      "execution_count": 20,
      "metadata": {
        "colab": {
          "base_uri": "https://localhost:8080/"
        },
        "id": "TzuR2ckdQ9N0",
        "outputId": "361046dc-a260-4151-a7df-51f35ba91c6e"
      },
      "outputs": [
        {
          "output_type": "stream",
          "name": "stdout",
          "text": [
            "Drive already mounted at /content/drive/; to attempt to forcibly remount, call drive.mount(\"/content/drive/\", force_remount=True).\n"
          ]
        }
      ],
      "source": [
        "from google.colab import drive\n",
        "drive.mount('/content/drive/')"
      ],
      "id": "TzuR2ckdQ9N0"
    },
    {
      "cell_type": "code",
      "execution_count": 21,
      "metadata": {
        "id": "HiROKlRtRPCP"
      },
      "outputs": [],
      "source": [
        "main = '/content/drive/MyDrive/ref_agrifieldnet_competition_v1'\n",
        "\n",
        "assets = ['field_ids','raster_labels']\n",
        "\n",
        "source_collection = f'/ref_agrifieldnet_competition_v1_source'\n",
        "train_label_collection = f'/ref_agrifieldnet_competition_v1_labels_train'\n",
        "test_label_collection = f'/ref_agrifieldnet_competition_v1_labels_test'"
      ],
      "id": "HiROKlRtRPCP"
    },
    {
      "cell_type": "markdown",
      "metadata": {
        "id": "c2b7152b"
      },
      "source": [
        "## Prepare Train data\n",
        "\n",
        "- Load collection.json in labels_train collection's path and retrieve all unique folder ids into a list.\n",
        "- Use unique folder ids to create a list of field.tif and raster_labels.tif paths for all tiles.\n",
        "- Create competition_train_data dataframe for folder_ids and field_paths\n",
        "- Create field_crop_pair dataframe using field_crop_extractor.\n",
        "- Create train_data dataframe using the feature_extractor with argsss (competition_train_data, source_collection)\n",
        "- Group processed dataset by fields and find the pixel average of across the entire field \n",
        "- Merge train_data dataframe and field_crop_pair dataframe on field_id\n",
        "- Split train_df dataframe for model training and evaluation "
      ],
      "id": "c2b7152b"
    },
    {
      "cell_type": "code",
      "execution_count": 22,
      "metadata": {
        "colab": {
          "base_uri": "https://localhost:8080/"
        },
        "id": "5q7Gc7EYSgHt",
        "outputId": "68e17a63-a346-4372-b22b-53f9e5b3c348"
      },
      "outputs": [
        {
          "output_type": "execute_result",
          "data": {
            "text/plain": [
              "True"
            ]
          },
          "metadata": {},
          "execution_count": 22
        }
      ],
      "source": [
        "os.path.exists('/content/drive/MyDrive/ref_agrifieldnet_competition_v1/ref_agrifieldnet_competition_v1_labels_train/collection.json')"
      ],
      "id": "5q7Gc7EYSgHt"
    },
    {
      "cell_type": "code",
      "execution_count": 23,
      "metadata": {
        "id": "660f4da6"
      },
      "outputs": [],
      "source": [
        "#load collection json and retrieve all unique folder ids \n",
        "#use all unique folder ids to create a list of field and label paths for all tiles\n",
        "\n",
        "with open (f'{main}/{train_label_collection}/collection.json') as f:\n",
        "    train_json = json.load(f)\n",
        "    \n",
        "train_folder_ids = [i['href'].split('_')[-1].split('.')[0] for i in train_json['links'][4:]]\n",
        "\n",
        "train_field_paths = [f'{main}/{train_label_collection}/{train_label_collection}_{i}/field_ids.tif' for i in train_folder_ids]\n",
        "train_label_paths = [f'{main}/{train_label_collection}/{train_label_collection}_{i}/raster_labels.tif' for i in train_folder_ids]"
      ],
      "id": "660f4da6"
    },
    {
      "cell_type": "code",
      "execution_count": 24,
      "metadata": {
        "colab": {
          "base_uri": "https://localhost:8080/",
          "height": 206
        },
        "id": "d158c3e9",
        "outputId": "c9a2f05c-612b-4503-c39b-90b3897ccd76"
      },
      "outputs": [
        {
          "output_type": "execute_result",
          "data": {
            "text/plain": [
              "  unique_folder_id                                        field_paths\n",
              "0            28852  /content/drive/MyDrive/ref_agrifieldnet_compet...\n",
              "1            d987c  /content/drive/MyDrive/ref_agrifieldnet_compet...\n",
              "2            ca1d4  /content/drive/MyDrive/ref_agrifieldnet_compet...\n",
              "3            2ec18  /content/drive/MyDrive/ref_agrifieldnet_compet...\n",
              "4            7575d  /content/drive/MyDrive/ref_agrifieldnet_compet..."
            ],
            "text/html": [
              "\n",
              "  <div id=\"df-14828ec8-a864-4d44-a0a4-cc5d58e9acdf\">\n",
              "    <div class=\"colab-df-container\">\n",
              "      <div>\n",
              "<style scoped>\n",
              "    .dataframe tbody tr th:only-of-type {\n",
              "        vertical-align: middle;\n",
              "    }\n",
              "\n",
              "    .dataframe tbody tr th {\n",
              "        vertical-align: top;\n",
              "    }\n",
              "\n",
              "    .dataframe thead th {\n",
              "        text-align: right;\n",
              "    }\n",
              "</style>\n",
              "<table border=\"1\" class=\"dataframe\">\n",
              "  <thead>\n",
              "    <tr style=\"text-align: right;\">\n",
              "      <th></th>\n",
              "      <th>unique_folder_id</th>\n",
              "      <th>field_paths</th>\n",
              "    </tr>\n",
              "  </thead>\n",
              "  <tbody>\n",
              "    <tr>\n",
              "      <th>0</th>\n",
              "      <td>28852</td>\n",
              "      <td>/content/drive/MyDrive/ref_agrifieldnet_compet...</td>\n",
              "    </tr>\n",
              "    <tr>\n",
              "      <th>1</th>\n",
              "      <td>d987c</td>\n",
              "      <td>/content/drive/MyDrive/ref_agrifieldnet_compet...</td>\n",
              "    </tr>\n",
              "    <tr>\n",
              "      <th>2</th>\n",
              "      <td>ca1d4</td>\n",
              "      <td>/content/drive/MyDrive/ref_agrifieldnet_compet...</td>\n",
              "    </tr>\n",
              "    <tr>\n",
              "      <th>3</th>\n",
              "      <td>2ec18</td>\n",
              "      <td>/content/drive/MyDrive/ref_agrifieldnet_compet...</td>\n",
              "    </tr>\n",
              "    <tr>\n",
              "      <th>4</th>\n",
              "      <td>7575d</td>\n",
              "      <td>/content/drive/MyDrive/ref_agrifieldnet_compet...</td>\n",
              "    </tr>\n",
              "  </tbody>\n",
              "</table>\n",
              "</div>\n",
              "      <button class=\"colab-df-convert\" onclick=\"convertToInteractive('df-14828ec8-a864-4d44-a0a4-cc5d58e9acdf')\"\n",
              "              title=\"Convert this dataframe to an interactive table.\"\n",
              "              style=\"display:none;\">\n",
              "        \n",
              "  <svg xmlns=\"http://www.w3.org/2000/svg\" height=\"24px\"viewBox=\"0 0 24 24\"\n",
              "       width=\"24px\">\n",
              "    <path d=\"M0 0h24v24H0V0z\" fill=\"none\"/>\n",
              "    <path d=\"M18.56 5.44l.94 2.06.94-2.06 2.06-.94-2.06-.94-.94-2.06-.94 2.06-2.06.94zm-11 1L8.5 8.5l.94-2.06 2.06-.94-2.06-.94L8.5 2.5l-.94 2.06-2.06.94zm10 10l.94 2.06.94-2.06 2.06-.94-2.06-.94-.94-2.06-.94 2.06-2.06.94z\"/><path d=\"M17.41 7.96l-1.37-1.37c-.4-.4-.92-.59-1.43-.59-.52 0-1.04.2-1.43.59L10.3 9.45l-7.72 7.72c-.78.78-.78 2.05 0 2.83L4 21.41c.39.39.9.59 1.41.59.51 0 1.02-.2 1.41-.59l7.78-7.78 2.81-2.81c.8-.78.8-2.07 0-2.86zM5.41 20L4 18.59l7.72-7.72 1.47 1.35L5.41 20z\"/>\n",
              "  </svg>\n",
              "      </button>\n",
              "      \n",
              "  <style>\n",
              "    .colab-df-container {\n",
              "      display:flex;\n",
              "      flex-wrap:wrap;\n",
              "      gap: 12px;\n",
              "    }\n",
              "\n",
              "    .colab-df-convert {\n",
              "      background-color: #E8F0FE;\n",
              "      border: none;\n",
              "      border-radius: 50%;\n",
              "      cursor: pointer;\n",
              "      display: none;\n",
              "      fill: #1967D2;\n",
              "      height: 32px;\n",
              "      padding: 0 0 0 0;\n",
              "      width: 32px;\n",
              "    }\n",
              "\n",
              "    .colab-df-convert:hover {\n",
              "      background-color: #E2EBFA;\n",
              "      box-shadow: 0px 1px 2px rgba(60, 64, 67, 0.3), 0px 1px 3px 1px rgba(60, 64, 67, 0.15);\n",
              "      fill: #174EA6;\n",
              "    }\n",
              "\n",
              "    [theme=dark] .colab-df-convert {\n",
              "      background-color: #3B4455;\n",
              "      fill: #D2E3FC;\n",
              "    }\n",
              "\n",
              "    [theme=dark] .colab-df-convert:hover {\n",
              "      background-color: #434B5C;\n",
              "      box-shadow: 0px 1px 3px 1px rgba(0, 0, 0, 0.15);\n",
              "      filter: drop-shadow(0px 1px 2px rgba(0, 0, 0, 0.3));\n",
              "      fill: #FFFFFF;\n",
              "    }\n",
              "  </style>\n",
              "\n",
              "      <script>\n",
              "        const buttonEl =\n",
              "          document.querySelector('#df-14828ec8-a864-4d44-a0a4-cc5d58e9acdf button.colab-df-convert');\n",
              "        buttonEl.style.display =\n",
              "          google.colab.kernel.accessAllowed ? 'block' : 'none';\n",
              "\n",
              "        async function convertToInteractive(key) {\n",
              "          const element = document.querySelector('#df-14828ec8-a864-4d44-a0a4-cc5d58e9acdf');\n",
              "          const dataTable =\n",
              "            await google.colab.kernel.invokeFunction('convertToInteractive',\n",
              "                                                     [key], {});\n",
              "          if (!dataTable) return;\n",
              "\n",
              "          const docLinkHtml = 'Like what you see? Visit the ' +\n",
              "            '<a target=\"_blank\" href=https://colab.research.google.com/notebooks/data_table.ipynb>data table notebook</a>'\n",
              "            + ' to learn more about interactive tables.';\n",
              "          element.innerHTML = '';\n",
              "          dataTable['output_type'] = 'display_data';\n",
              "          await google.colab.output.renderOutput(dataTable, element);\n",
              "          const docLink = document.createElement('div');\n",
              "          docLink.innerHTML = docLinkHtml;\n",
              "          element.appendChild(docLink);\n",
              "        }\n",
              "      </script>\n",
              "    </div>\n",
              "  </div>\n",
              "  "
            ]
          },
          "metadata": {},
          "execution_count": 24
        }
      ],
      "source": [
        "#create dataset for folder_ids and field_paths\n",
        "\n",
        "competition_train_data = pd.DataFrame(train_folder_ids, columns=['unique_folder_id'])\n",
        "competition_train_data['field_paths'] = train_field_paths\n",
        "competition_train_data.head()"
      ],
      "id": "d158c3e9"
    },
    {
      "cell_type": "code",
      "execution_count": 25,
      "metadata": {
        "id": "a1b5a74b"
      },
      "outputs": [],
      "source": [
        "# PREPROCESS FIELDS AND CROPS IN TILES FOR TRAININIG"
      ],
      "id": "a1b5a74b"
    },
    {
      "cell_type": "code",
      "execution_count": 26,
      "metadata": {
        "id": "c2f50ff2"
      },
      "outputs": [],
      "source": [
        "#Extract field_crop Pairs \n",
        "\n",
        "def field_crop_extractor(crop_field_files):\n",
        "    field_crops = {}\n",
        "\n",
        "    for label_field_file in tqdm(crop_field_files):\n",
        "        with rasterio.open(f'{main}/{train_label_collection}/{train_label_collection}_{label_field_file}/field_ids.tif') as src:\n",
        "            field_data = src.read()[0]\n",
        "        with rasterio.open(f'{main}/{train_label_collection}/{train_label_collection}_{label_field_file}/raster_labels.tif') as src:\n",
        "            crop_data = src.read()[0]\n",
        "    \n",
        "        for x in range(0, crop_data.shape[0]):\n",
        "            for y in range(0, crop_data.shape[1]):\n",
        "                field_id = str(field_data[x][y])\n",
        "                field_crop = crop_data[x][y]\n",
        "\n",
        "                if field_crops.get(field_id) is None:\n",
        "                    field_crops[field_id] = []\n",
        "\n",
        "                if field_crop not in field_crops[field_id]:\n",
        "                    field_crops[field_id].append(field_crop)\n",
        "    \n",
        "    field_crop_map  =[[k, v[0]]  for k, v in field_crops.items() ]\n",
        "    field_crop = pd.DataFrame(field_crop_map , columns=['field_id','crop_id'])\n",
        "\n",
        "    return field_crop[field_crop['field_id']!='0']"
      ],
      "id": "c2f50ff2"
    },
    {
      "cell_type": "code",
      "execution_count": 27,
      "metadata": {
        "colab": {
          "base_uri": "https://localhost:8080/",
          "height": 224
        },
        "id": "c9fae52b",
        "outputId": "2dd596a2-672f-45a4-d568-df1bf5a3eb7b"
      },
      "outputs": [
        {
          "output_type": "stream",
          "name": "stderr",
          "text": [
            "100%|██████████| 1165/1165 [09:07<00:00,  2.13it/s]\n"
          ]
        },
        {
          "output_type": "execute_result",
          "data": {
            "text/plain": [
              "  field_id  crop_id\n",
              "1      757        6\n",
              "2      756        6\n",
              "3     1372        5\n",
              "4     1374        1\n",
              "5     1986        4"
            ],
            "text/html": [
              "\n",
              "  <div id=\"df-d6c060e5-050e-4c82-8218-85ea485aa573\">\n",
              "    <div class=\"colab-df-container\">\n",
              "      <div>\n",
              "<style scoped>\n",
              "    .dataframe tbody tr th:only-of-type {\n",
              "        vertical-align: middle;\n",
              "    }\n",
              "\n",
              "    .dataframe tbody tr th {\n",
              "        vertical-align: top;\n",
              "    }\n",
              "\n",
              "    .dataframe thead th {\n",
              "        text-align: right;\n",
              "    }\n",
              "</style>\n",
              "<table border=\"1\" class=\"dataframe\">\n",
              "  <thead>\n",
              "    <tr style=\"text-align: right;\">\n",
              "      <th></th>\n",
              "      <th>field_id</th>\n",
              "      <th>crop_id</th>\n",
              "    </tr>\n",
              "  </thead>\n",
              "  <tbody>\n",
              "    <tr>\n",
              "      <th>1</th>\n",
              "      <td>757</td>\n",
              "      <td>6</td>\n",
              "    </tr>\n",
              "    <tr>\n",
              "      <th>2</th>\n",
              "      <td>756</td>\n",
              "      <td>6</td>\n",
              "    </tr>\n",
              "    <tr>\n",
              "      <th>3</th>\n",
              "      <td>1372</td>\n",
              "      <td>5</td>\n",
              "    </tr>\n",
              "    <tr>\n",
              "      <th>4</th>\n",
              "      <td>1374</td>\n",
              "      <td>1</td>\n",
              "    </tr>\n",
              "    <tr>\n",
              "      <th>5</th>\n",
              "      <td>1986</td>\n",
              "      <td>4</td>\n",
              "    </tr>\n",
              "  </tbody>\n",
              "</table>\n",
              "</div>\n",
              "      <button class=\"colab-df-convert\" onclick=\"convertToInteractive('df-d6c060e5-050e-4c82-8218-85ea485aa573')\"\n",
              "              title=\"Convert this dataframe to an interactive table.\"\n",
              "              style=\"display:none;\">\n",
              "        \n",
              "  <svg xmlns=\"http://www.w3.org/2000/svg\" height=\"24px\"viewBox=\"0 0 24 24\"\n",
              "       width=\"24px\">\n",
              "    <path d=\"M0 0h24v24H0V0z\" fill=\"none\"/>\n",
              "    <path d=\"M18.56 5.44l.94 2.06.94-2.06 2.06-.94-2.06-.94-.94-2.06-.94 2.06-2.06.94zm-11 1L8.5 8.5l.94-2.06 2.06-.94-2.06-.94L8.5 2.5l-.94 2.06-2.06.94zm10 10l.94 2.06.94-2.06 2.06-.94-2.06-.94-.94-2.06-.94 2.06-2.06.94z\"/><path d=\"M17.41 7.96l-1.37-1.37c-.4-.4-.92-.59-1.43-.59-.52 0-1.04.2-1.43.59L10.3 9.45l-7.72 7.72c-.78.78-.78 2.05 0 2.83L4 21.41c.39.39.9.59 1.41.59.51 0 1.02-.2 1.41-.59l7.78-7.78 2.81-2.81c.8-.78.8-2.07 0-2.86zM5.41 20L4 18.59l7.72-7.72 1.47 1.35L5.41 20z\"/>\n",
              "  </svg>\n",
              "      </button>\n",
              "      \n",
              "  <style>\n",
              "    .colab-df-container {\n",
              "      display:flex;\n",
              "      flex-wrap:wrap;\n",
              "      gap: 12px;\n",
              "    }\n",
              "\n",
              "    .colab-df-convert {\n",
              "      background-color: #E8F0FE;\n",
              "      border: none;\n",
              "      border-radius: 50%;\n",
              "      cursor: pointer;\n",
              "      display: none;\n",
              "      fill: #1967D2;\n",
              "      height: 32px;\n",
              "      padding: 0 0 0 0;\n",
              "      width: 32px;\n",
              "    }\n",
              "\n",
              "    .colab-df-convert:hover {\n",
              "      background-color: #E2EBFA;\n",
              "      box-shadow: 0px 1px 2px rgba(60, 64, 67, 0.3), 0px 1px 3px 1px rgba(60, 64, 67, 0.15);\n",
              "      fill: #174EA6;\n",
              "    }\n",
              "\n",
              "    [theme=dark] .colab-df-convert {\n",
              "      background-color: #3B4455;\n",
              "      fill: #D2E3FC;\n",
              "    }\n",
              "\n",
              "    [theme=dark] .colab-df-convert:hover {\n",
              "      background-color: #434B5C;\n",
              "      box-shadow: 0px 1px 3px 1px rgba(0, 0, 0, 0.15);\n",
              "      filter: drop-shadow(0px 1px 2px rgba(0, 0, 0, 0.3));\n",
              "      fill: #FFFFFF;\n",
              "    }\n",
              "  </style>\n",
              "\n",
              "      <script>\n",
              "        const buttonEl =\n",
              "          document.querySelector('#df-d6c060e5-050e-4c82-8218-85ea485aa573 button.colab-df-convert');\n",
              "        buttonEl.style.display =\n",
              "          google.colab.kernel.accessAllowed ? 'block' : 'none';\n",
              "\n",
              "        async function convertToInteractive(key) {\n",
              "          const element = document.querySelector('#df-d6c060e5-050e-4c82-8218-85ea485aa573');\n",
              "          const dataTable =\n",
              "            await google.colab.kernel.invokeFunction('convertToInteractive',\n",
              "                                                     [key], {});\n",
              "          if (!dataTable) return;\n",
              "\n",
              "          const docLinkHtml = 'Like what you see? Visit the ' +\n",
              "            '<a target=\"_blank\" href=https://colab.research.google.com/notebooks/data_table.ipynb>data table notebook</a>'\n",
              "            + ' to learn more about interactive tables.';\n",
              "          element.innerHTML = '';\n",
              "          dataTable['output_type'] = 'display_data';\n",
              "          await google.colab.output.renderOutput(dataTable, element);\n",
              "          const docLink = document.createElement('div');\n",
              "          docLink.innerHTML = docLinkHtml;\n",
              "          element.appendChild(docLink);\n",
              "        }\n",
              "      </script>\n",
              "    </div>\n",
              "  </div>\n",
              "  "
            ]
          },
          "metadata": {},
          "execution_count": 27
        }
      ],
      "source": [
        "field_crop_pair = field_crop_extractor(train_folder_ids)\n",
        "field_crop_pair.head()"
      ],
      "id": "c9fae52b"
    },
    {
      "cell_type": "code",
      "execution_count": 28,
      "metadata": {
        "colab": {
          "base_uri": "https://localhost:8080/"
        },
        "id": "b8db1cbb",
        "outputId": "f90bbb59-c4ca-468f-b8c7-4f8d2558d9dc"
      },
      "outputs": [
        {
          "output_type": "execute_result",
          "data": {
            "text/plain": [
              "(5551, 2)"
            ]
          },
          "metadata": {},
          "execution_count": 28
        }
      ],
      "source": [
        "field_crop_pair.shape"
      ],
      "id": "b8db1cbb"
    },
    {
      "cell_type": "code",
      "execution_count": 29,
      "metadata": {
        "id": "9fe02490"
      },
      "outputs": [],
      "source": [
        "# Our goal is developing a pixel-based Random Forest model. So we will create an X variable\n",
        "# such that, each row is a pixel and each column is one of the band observations mapped to its corresponding field. \n",
        "\n",
        "\n",
        "img_sh = 256\n",
        "n_selected_bands= len(selected_bands)\n",
        "\n",
        "n_obs = 1  #imagery per chip(no time series)\n",
        "\n",
        "def feature_extractor(data_ ,   path ):\n",
        "    '''\n",
        "        data_: Dataframe with 'field_paths' and 'unique_folder_id' columns\n",
        "        path: Path to source collections files\n",
        "\n",
        "        returns: pixel dataframe with corresponding field_ids\n",
        "        '''\n",
        "    \n",
        "    X = np.empty((0, n_selected_bands * n_obs))\n",
        "    X_tile = np.empty((img_sh * img_sh, 0))\n",
        "    X_arrays = []\n",
        "        \n",
        "    field_ids = np.empty((0, 1))\n",
        "\n",
        "    for idx, tile_id in tqdm(enumerate(data_['unique_folder_id'])):\n",
        "        \n",
        "        field_src =   rasterio.open( data_['field_paths'].values[idx])\n",
        "        field_array = field_src.read(1)\n",
        "        field_ids = np.append(field_ids, field_array.flatten())\n",
        "        \n",
        "        \n",
        "        bands_src = [rasterio.open(f'{main}/{path}/{path}_{tile_id}/{band}.tif') for band in selected_bands]\n",
        "        bands_array = [np.expand_dims(band.read(1).flatten(), axis=1) for band in bands_src]\n",
        "        \n",
        "        X_tile = np.hstack(bands_array)\n",
        "\n",
        "        X_arrays.append(X_tile)\n",
        "        \n",
        "\n",
        "    X = np.concatenate(X_arrays)\n",
        "    \n",
        "    data = pd.DataFrame(X, columns=selected_bands)\n",
        "\n",
        "    data['field_id'] = field_ids\n",
        "\n",
        "    return data[data['field_id']!=0]"
      ],
      "id": "9fe02490"
    },
    {
      "cell_type": "code",
      "execution_count": 30,
      "metadata": {
        "colab": {
          "base_uri": "https://localhost:8080/",
          "height": 224
        },
        "id": "772a9131",
        "outputId": "0ec0b263-06f2-4962-9ee5-58507a1877d5"
      },
      "outputs": [
        {
          "output_type": "stream",
          "name": "stderr",
          "text": [
            "1165it [45:34,  2.35s/it]\n"
          ]
        },
        {
          "output_type": "execute_result",
          "data": {
            "text/plain": [
              "       B01  B02  B03  B04  B05  B06  B07  B08  B8A  B09  B11  B12  field_id\n",
              "11031   43   39   38   38   41   54   63   61   64   12   57   37     757.0\n",
              "11287   43   39   38   38   42   57   67   63   72   12   63   42     757.0\n",
              "11288   43   39   38   37   41   59   69   65   78   12   68   43     757.0\n",
              "11289   43   38   37   36   41   59   69   64   78   12   68   43     757.0\n",
              "11543   43   39   38   38   42   57   67   64   72   12   63   42     757.0"
            ],
            "text/html": [
              "\n",
              "  <div id=\"df-fcbe5905-1562-4933-9d53-cd69014a1df8\">\n",
              "    <div class=\"colab-df-container\">\n",
              "      <div>\n",
              "<style scoped>\n",
              "    .dataframe tbody tr th:only-of-type {\n",
              "        vertical-align: middle;\n",
              "    }\n",
              "\n",
              "    .dataframe tbody tr th {\n",
              "        vertical-align: top;\n",
              "    }\n",
              "\n",
              "    .dataframe thead th {\n",
              "        text-align: right;\n",
              "    }\n",
              "</style>\n",
              "<table border=\"1\" class=\"dataframe\">\n",
              "  <thead>\n",
              "    <tr style=\"text-align: right;\">\n",
              "      <th></th>\n",
              "      <th>B01</th>\n",
              "      <th>B02</th>\n",
              "      <th>B03</th>\n",
              "      <th>B04</th>\n",
              "      <th>B05</th>\n",
              "      <th>B06</th>\n",
              "      <th>B07</th>\n",
              "      <th>B08</th>\n",
              "      <th>B8A</th>\n",
              "      <th>B09</th>\n",
              "      <th>B11</th>\n",
              "      <th>B12</th>\n",
              "      <th>field_id</th>\n",
              "    </tr>\n",
              "  </thead>\n",
              "  <tbody>\n",
              "    <tr>\n",
              "      <th>11031</th>\n",
              "      <td>43</td>\n",
              "      <td>39</td>\n",
              "      <td>38</td>\n",
              "      <td>38</td>\n",
              "      <td>41</td>\n",
              "      <td>54</td>\n",
              "      <td>63</td>\n",
              "      <td>61</td>\n",
              "      <td>64</td>\n",
              "      <td>12</td>\n",
              "      <td>57</td>\n",
              "      <td>37</td>\n",
              "      <td>757.0</td>\n",
              "    </tr>\n",
              "    <tr>\n",
              "      <th>11287</th>\n",
              "      <td>43</td>\n",
              "      <td>39</td>\n",
              "      <td>38</td>\n",
              "      <td>38</td>\n",
              "      <td>42</td>\n",
              "      <td>57</td>\n",
              "      <td>67</td>\n",
              "      <td>63</td>\n",
              "      <td>72</td>\n",
              "      <td>12</td>\n",
              "      <td>63</td>\n",
              "      <td>42</td>\n",
              "      <td>757.0</td>\n",
              "    </tr>\n",
              "    <tr>\n",
              "      <th>11288</th>\n",
              "      <td>43</td>\n",
              "      <td>39</td>\n",
              "      <td>38</td>\n",
              "      <td>37</td>\n",
              "      <td>41</td>\n",
              "      <td>59</td>\n",
              "      <td>69</td>\n",
              "      <td>65</td>\n",
              "      <td>78</td>\n",
              "      <td>12</td>\n",
              "      <td>68</td>\n",
              "      <td>43</td>\n",
              "      <td>757.0</td>\n",
              "    </tr>\n",
              "    <tr>\n",
              "      <th>11289</th>\n",
              "      <td>43</td>\n",
              "      <td>38</td>\n",
              "      <td>37</td>\n",
              "      <td>36</td>\n",
              "      <td>41</td>\n",
              "      <td>59</td>\n",
              "      <td>69</td>\n",
              "      <td>64</td>\n",
              "      <td>78</td>\n",
              "      <td>12</td>\n",
              "      <td>68</td>\n",
              "      <td>43</td>\n",
              "      <td>757.0</td>\n",
              "    </tr>\n",
              "    <tr>\n",
              "      <th>11543</th>\n",
              "      <td>43</td>\n",
              "      <td>39</td>\n",
              "      <td>38</td>\n",
              "      <td>38</td>\n",
              "      <td>42</td>\n",
              "      <td>57</td>\n",
              "      <td>67</td>\n",
              "      <td>64</td>\n",
              "      <td>72</td>\n",
              "      <td>12</td>\n",
              "      <td>63</td>\n",
              "      <td>42</td>\n",
              "      <td>757.0</td>\n",
              "    </tr>\n",
              "  </tbody>\n",
              "</table>\n",
              "</div>\n",
              "      <button class=\"colab-df-convert\" onclick=\"convertToInteractive('df-fcbe5905-1562-4933-9d53-cd69014a1df8')\"\n",
              "              title=\"Convert this dataframe to an interactive table.\"\n",
              "              style=\"display:none;\">\n",
              "        \n",
              "  <svg xmlns=\"http://www.w3.org/2000/svg\" height=\"24px\"viewBox=\"0 0 24 24\"\n",
              "       width=\"24px\">\n",
              "    <path d=\"M0 0h24v24H0V0z\" fill=\"none\"/>\n",
              "    <path d=\"M18.56 5.44l.94 2.06.94-2.06 2.06-.94-2.06-.94-.94-2.06-.94 2.06-2.06.94zm-11 1L8.5 8.5l.94-2.06 2.06-.94-2.06-.94L8.5 2.5l-.94 2.06-2.06.94zm10 10l.94 2.06.94-2.06 2.06-.94-2.06-.94-.94-2.06-.94 2.06-2.06.94z\"/><path d=\"M17.41 7.96l-1.37-1.37c-.4-.4-.92-.59-1.43-.59-.52 0-1.04.2-1.43.59L10.3 9.45l-7.72 7.72c-.78.78-.78 2.05 0 2.83L4 21.41c.39.39.9.59 1.41.59.51 0 1.02-.2 1.41-.59l7.78-7.78 2.81-2.81c.8-.78.8-2.07 0-2.86zM5.41 20L4 18.59l7.72-7.72 1.47 1.35L5.41 20z\"/>\n",
              "  </svg>\n",
              "      </button>\n",
              "      \n",
              "  <style>\n",
              "    .colab-df-container {\n",
              "      display:flex;\n",
              "      flex-wrap:wrap;\n",
              "      gap: 12px;\n",
              "    }\n",
              "\n",
              "    .colab-df-convert {\n",
              "      background-color: #E8F0FE;\n",
              "      border: none;\n",
              "      border-radius: 50%;\n",
              "      cursor: pointer;\n",
              "      display: none;\n",
              "      fill: #1967D2;\n",
              "      height: 32px;\n",
              "      padding: 0 0 0 0;\n",
              "      width: 32px;\n",
              "    }\n",
              "\n",
              "    .colab-df-convert:hover {\n",
              "      background-color: #E2EBFA;\n",
              "      box-shadow: 0px 1px 2px rgba(60, 64, 67, 0.3), 0px 1px 3px 1px rgba(60, 64, 67, 0.15);\n",
              "      fill: #174EA6;\n",
              "    }\n",
              "\n",
              "    [theme=dark] .colab-df-convert {\n",
              "      background-color: #3B4455;\n",
              "      fill: #D2E3FC;\n",
              "    }\n",
              "\n",
              "    [theme=dark] .colab-df-convert:hover {\n",
              "      background-color: #434B5C;\n",
              "      box-shadow: 0px 1px 3px 1px rgba(0, 0, 0, 0.15);\n",
              "      filter: drop-shadow(0px 1px 2px rgba(0, 0, 0, 0.3));\n",
              "      fill: #FFFFFF;\n",
              "    }\n",
              "  </style>\n",
              "\n",
              "      <script>\n",
              "        const buttonEl =\n",
              "          document.querySelector('#df-fcbe5905-1562-4933-9d53-cd69014a1df8 button.colab-df-convert');\n",
              "        buttonEl.style.display =\n",
              "          google.colab.kernel.accessAllowed ? 'block' : 'none';\n",
              "\n",
              "        async function convertToInteractive(key) {\n",
              "          const element = document.querySelector('#df-fcbe5905-1562-4933-9d53-cd69014a1df8');\n",
              "          const dataTable =\n",
              "            await google.colab.kernel.invokeFunction('convertToInteractive',\n",
              "                                                     [key], {});\n",
              "          if (!dataTable) return;\n",
              "\n",
              "          const docLinkHtml = 'Like what you see? Visit the ' +\n",
              "            '<a target=\"_blank\" href=https://colab.research.google.com/notebooks/data_table.ipynb>data table notebook</a>'\n",
              "            + ' to learn more about interactive tables.';\n",
              "          element.innerHTML = '';\n",
              "          dataTable['output_type'] = 'display_data';\n",
              "          await google.colab.output.renderOutput(dataTable, element);\n",
              "          const docLink = document.createElement('div');\n",
              "          docLink.innerHTML = docLinkHtml;\n",
              "          element.appendChild(docLink);\n",
              "        }\n",
              "      </script>\n",
              "    </div>\n",
              "  </div>\n",
              "  "
            ]
          },
          "metadata": {},
          "execution_count": 30
        }
      ],
      "source": [
        "train_data = feature_extractor(competition_train_data, source_collection)\n",
        "train_data.head()"
      ],
      "id": "772a9131"
    },
    {
      "cell_type": "code",
      "execution_count": 31,
      "metadata": {
        "colab": {
          "base_uri": "https://localhost:8080/",
          "height": 270
        },
        "id": "715b676b",
        "outputId": "d94e07d3-bfc2-4b64-f50c-cc77780bd562"
      },
      "outputs": [
        {
          "output_type": "execute_result",
          "data": {
            "text/plain": [
              "  field_id        B01        B02        B03        B04        B05        B06  \\\n",
              "0        1  45.000000  42.444444  42.722222  48.000000  49.666667  58.000000   \n",
              "1        2  45.000000  42.000000  42.166667  47.666667  49.250000  59.916667   \n",
              "2        3  45.000000  42.687500  43.500000  49.187500  51.437500  62.875000   \n",
              "3        4  45.866667  42.466667  43.800000  47.733333  49.466667  59.733333   \n",
              "4        5  46.000000  43.238095  45.238095  49.285714  50.904762  60.904762   \n",
              "\n",
              "         B07        B08        B8A        B09        B11        B12  \n",
              "0  65.222222  60.277778  71.944444  12.000000  80.277778  61.333333  \n",
              "1  69.000000  63.916667  76.333333  12.833333  79.916667  56.750000  \n",
              "2  71.625000  66.625000  79.312500  13.000000  82.125000  58.062500  \n",
              "3  68.133333  62.600000  73.466667  11.266667  77.600000  55.000000  \n",
              "4  68.952381  63.380952  74.547619  11.333333  77.452381  55.809524  "
            ],
            "text/html": [
              "\n",
              "  <div id=\"df-308f697c-68a8-4611-a1db-9ae63c5cc940\">\n",
              "    <div class=\"colab-df-container\">\n",
              "      <div>\n",
              "<style scoped>\n",
              "    .dataframe tbody tr th:only-of-type {\n",
              "        vertical-align: middle;\n",
              "    }\n",
              "\n",
              "    .dataframe tbody tr th {\n",
              "        vertical-align: top;\n",
              "    }\n",
              "\n",
              "    .dataframe thead th {\n",
              "        text-align: right;\n",
              "    }\n",
              "</style>\n",
              "<table border=\"1\" class=\"dataframe\">\n",
              "  <thead>\n",
              "    <tr style=\"text-align: right;\">\n",
              "      <th></th>\n",
              "      <th>field_id</th>\n",
              "      <th>B01</th>\n",
              "      <th>B02</th>\n",
              "      <th>B03</th>\n",
              "      <th>B04</th>\n",
              "      <th>B05</th>\n",
              "      <th>B06</th>\n",
              "      <th>B07</th>\n",
              "      <th>B08</th>\n",
              "      <th>B8A</th>\n",
              "      <th>B09</th>\n",
              "      <th>B11</th>\n",
              "      <th>B12</th>\n",
              "    </tr>\n",
              "  </thead>\n",
              "  <tbody>\n",
              "    <tr>\n",
              "      <th>0</th>\n",
              "      <td>1</td>\n",
              "      <td>45.000000</td>\n",
              "      <td>42.444444</td>\n",
              "      <td>42.722222</td>\n",
              "      <td>48.000000</td>\n",
              "      <td>49.666667</td>\n",
              "      <td>58.000000</td>\n",
              "      <td>65.222222</td>\n",
              "      <td>60.277778</td>\n",
              "      <td>71.944444</td>\n",
              "      <td>12.000000</td>\n",
              "      <td>80.277778</td>\n",
              "      <td>61.333333</td>\n",
              "    </tr>\n",
              "    <tr>\n",
              "      <th>1</th>\n",
              "      <td>2</td>\n",
              "      <td>45.000000</td>\n",
              "      <td>42.000000</td>\n",
              "      <td>42.166667</td>\n",
              "      <td>47.666667</td>\n",
              "      <td>49.250000</td>\n",
              "      <td>59.916667</td>\n",
              "      <td>69.000000</td>\n",
              "      <td>63.916667</td>\n",
              "      <td>76.333333</td>\n",
              "      <td>12.833333</td>\n",
              "      <td>79.916667</td>\n",
              "      <td>56.750000</td>\n",
              "    </tr>\n",
              "    <tr>\n",
              "      <th>2</th>\n",
              "      <td>3</td>\n",
              "      <td>45.000000</td>\n",
              "      <td>42.687500</td>\n",
              "      <td>43.500000</td>\n",
              "      <td>49.187500</td>\n",
              "      <td>51.437500</td>\n",
              "      <td>62.875000</td>\n",
              "      <td>71.625000</td>\n",
              "      <td>66.625000</td>\n",
              "      <td>79.312500</td>\n",
              "      <td>13.000000</td>\n",
              "      <td>82.125000</td>\n",
              "      <td>58.062500</td>\n",
              "    </tr>\n",
              "    <tr>\n",
              "      <th>3</th>\n",
              "      <td>4</td>\n",
              "      <td>45.866667</td>\n",
              "      <td>42.466667</td>\n",
              "      <td>43.800000</td>\n",
              "      <td>47.733333</td>\n",
              "      <td>49.466667</td>\n",
              "      <td>59.733333</td>\n",
              "      <td>68.133333</td>\n",
              "      <td>62.600000</td>\n",
              "      <td>73.466667</td>\n",
              "      <td>11.266667</td>\n",
              "      <td>77.600000</td>\n",
              "      <td>55.000000</td>\n",
              "    </tr>\n",
              "    <tr>\n",
              "      <th>4</th>\n",
              "      <td>5</td>\n",
              "      <td>46.000000</td>\n",
              "      <td>43.238095</td>\n",
              "      <td>45.238095</td>\n",
              "      <td>49.285714</td>\n",
              "      <td>50.904762</td>\n",
              "      <td>60.904762</td>\n",
              "      <td>68.952381</td>\n",
              "      <td>63.380952</td>\n",
              "      <td>74.547619</td>\n",
              "      <td>11.333333</td>\n",
              "      <td>77.452381</td>\n",
              "      <td>55.809524</td>\n",
              "    </tr>\n",
              "  </tbody>\n",
              "</table>\n",
              "</div>\n",
              "      <button class=\"colab-df-convert\" onclick=\"convertToInteractive('df-308f697c-68a8-4611-a1db-9ae63c5cc940')\"\n",
              "              title=\"Convert this dataframe to an interactive table.\"\n",
              "              style=\"display:none;\">\n",
              "        \n",
              "  <svg xmlns=\"http://www.w3.org/2000/svg\" height=\"24px\"viewBox=\"0 0 24 24\"\n",
              "       width=\"24px\">\n",
              "    <path d=\"M0 0h24v24H0V0z\" fill=\"none\"/>\n",
              "    <path d=\"M18.56 5.44l.94 2.06.94-2.06 2.06-.94-2.06-.94-.94-2.06-.94 2.06-2.06.94zm-11 1L8.5 8.5l.94-2.06 2.06-.94-2.06-.94L8.5 2.5l-.94 2.06-2.06.94zm10 10l.94 2.06.94-2.06 2.06-.94-2.06-.94-.94-2.06-.94 2.06-2.06.94z\"/><path d=\"M17.41 7.96l-1.37-1.37c-.4-.4-.92-.59-1.43-.59-.52 0-1.04.2-1.43.59L10.3 9.45l-7.72 7.72c-.78.78-.78 2.05 0 2.83L4 21.41c.39.39.9.59 1.41.59.51 0 1.02-.2 1.41-.59l7.78-7.78 2.81-2.81c.8-.78.8-2.07 0-2.86zM5.41 20L4 18.59l7.72-7.72 1.47 1.35L5.41 20z\"/>\n",
              "  </svg>\n",
              "      </button>\n",
              "      \n",
              "  <style>\n",
              "    .colab-df-container {\n",
              "      display:flex;\n",
              "      flex-wrap:wrap;\n",
              "      gap: 12px;\n",
              "    }\n",
              "\n",
              "    .colab-df-convert {\n",
              "      background-color: #E8F0FE;\n",
              "      border: none;\n",
              "      border-radius: 50%;\n",
              "      cursor: pointer;\n",
              "      display: none;\n",
              "      fill: #1967D2;\n",
              "      height: 32px;\n",
              "      padding: 0 0 0 0;\n",
              "      width: 32px;\n",
              "    }\n",
              "\n",
              "    .colab-df-convert:hover {\n",
              "      background-color: #E2EBFA;\n",
              "      box-shadow: 0px 1px 2px rgba(60, 64, 67, 0.3), 0px 1px 3px 1px rgba(60, 64, 67, 0.15);\n",
              "      fill: #174EA6;\n",
              "    }\n",
              "\n",
              "    [theme=dark] .colab-df-convert {\n",
              "      background-color: #3B4455;\n",
              "      fill: #D2E3FC;\n",
              "    }\n",
              "\n",
              "    [theme=dark] .colab-df-convert:hover {\n",
              "      background-color: #434B5C;\n",
              "      box-shadow: 0px 1px 3px 1px rgba(0, 0, 0, 0.15);\n",
              "      filter: drop-shadow(0px 1px 2px rgba(0, 0, 0, 0.3));\n",
              "      fill: #FFFFFF;\n",
              "    }\n",
              "  </style>\n",
              "\n",
              "      <script>\n",
              "        const buttonEl =\n",
              "          document.querySelector('#df-308f697c-68a8-4611-a1db-9ae63c5cc940 button.colab-df-convert');\n",
              "        buttonEl.style.display =\n",
              "          google.colab.kernel.accessAllowed ? 'block' : 'none';\n",
              "\n",
              "        async function convertToInteractive(key) {\n",
              "          const element = document.querySelector('#df-308f697c-68a8-4611-a1db-9ae63c5cc940');\n",
              "          const dataTable =\n",
              "            await google.colab.kernel.invokeFunction('convertToInteractive',\n",
              "                                                     [key], {});\n",
              "          if (!dataTable) return;\n",
              "\n",
              "          const docLinkHtml = 'Like what you see? Visit the ' +\n",
              "            '<a target=\"_blank\" href=https://colab.research.google.com/notebooks/data_table.ipynb>data table notebook</a>'\n",
              "            + ' to learn more about interactive tables.';\n",
              "          element.innerHTML = '';\n",
              "          dataTable['output_type'] = 'display_data';\n",
              "          await google.colab.output.renderOutput(dataTable, element);\n",
              "          const docLink = document.createElement('div');\n",
              "          docLink.innerHTML = docLinkHtml;\n",
              "          element.appendChild(docLink);\n",
              "        }\n",
              "      </script>\n",
              "    </div>\n",
              "  </div>\n",
              "  "
            ]
          },
          "metadata": {},
          "execution_count": 31
        }
      ],
      "source": [
        "# Each field has several pixels in| the data. Here our goal is to build a Random Forest (RF) model using the average values\n",
        "# of the pixels within each field. So, we use `groupby` to take the mean for each field_id\n",
        "\n",
        "train_data_grouped = train_data.groupby(['field_id']).mean().reset_index()\n",
        "train_data_grouped.field_id = [str(int(i)) for i in train_data_grouped.field_id.values]\n",
        "train_data_grouped.head()"
      ],
      "id": "715b676b"
    },
    {
      "cell_type": "code",
      "execution_count": 32,
      "metadata": {
        "colab": {
          "base_uri": "https://localhost:8080/",
          "height": 270
        },
        "id": "ec783661",
        "outputId": "921d61c4-0f30-41f6-be10-0fb4ee9babda"
      },
      "outputs": [
        {
          "output_type": "execute_result",
          "data": {
            "text/plain": [
              "  field_id        B01        B02        B03        B04        B05        B06  \\\n",
              "0        1  45.000000  42.444444  42.722222  48.000000  49.666667  58.000000   \n",
              "1        2  45.000000  42.000000  42.166667  47.666667  49.250000  59.916667   \n",
              "2        3  45.000000  42.687500  43.500000  49.187500  51.437500  62.875000   \n",
              "3        4  45.866667  42.466667  43.800000  47.733333  49.466667  59.733333   \n",
              "4        5  46.000000  43.238095  45.238095  49.285714  50.904762  60.904762   \n",
              "\n",
              "         B07        B08        B8A        B09        B11        B12  crop_id  \n",
              "0  65.222222  60.277778  71.944444  12.000000  80.277778  61.333333        1  \n",
              "1  69.000000  63.916667  76.333333  12.833333  79.916667  56.750000        1  \n",
              "2  71.625000  66.625000  79.312500  13.000000  82.125000  58.062500        1  \n",
              "3  68.133333  62.600000  73.466667  11.266667  77.600000  55.000000        2  \n",
              "4  68.952381  63.380952  74.547619  11.333333  77.452381  55.809524        2  "
            ],
            "text/html": [
              "\n",
              "  <div id=\"df-92bfc0d4-d210-45c8-be83-cb5a8403086b\">\n",
              "    <div class=\"colab-df-container\">\n",
              "      <div>\n",
              "<style scoped>\n",
              "    .dataframe tbody tr th:only-of-type {\n",
              "        vertical-align: middle;\n",
              "    }\n",
              "\n",
              "    .dataframe tbody tr th {\n",
              "        vertical-align: top;\n",
              "    }\n",
              "\n",
              "    .dataframe thead th {\n",
              "        text-align: right;\n",
              "    }\n",
              "</style>\n",
              "<table border=\"1\" class=\"dataframe\">\n",
              "  <thead>\n",
              "    <tr style=\"text-align: right;\">\n",
              "      <th></th>\n",
              "      <th>field_id</th>\n",
              "      <th>B01</th>\n",
              "      <th>B02</th>\n",
              "      <th>B03</th>\n",
              "      <th>B04</th>\n",
              "      <th>B05</th>\n",
              "      <th>B06</th>\n",
              "      <th>B07</th>\n",
              "      <th>B08</th>\n",
              "      <th>B8A</th>\n",
              "      <th>B09</th>\n",
              "      <th>B11</th>\n",
              "      <th>B12</th>\n",
              "      <th>crop_id</th>\n",
              "    </tr>\n",
              "  </thead>\n",
              "  <tbody>\n",
              "    <tr>\n",
              "      <th>0</th>\n",
              "      <td>1</td>\n",
              "      <td>45.000000</td>\n",
              "      <td>42.444444</td>\n",
              "      <td>42.722222</td>\n",
              "      <td>48.000000</td>\n",
              "      <td>49.666667</td>\n",
              "      <td>58.000000</td>\n",
              "      <td>65.222222</td>\n",
              "      <td>60.277778</td>\n",
              "      <td>71.944444</td>\n",
              "      <td>12.000000</td>\n",
              "      <td>80.277778</td>\n",
              "      <td>61.333333</td>\n",
              "      <td>1</td>\n",
              "    </tr>\n",
              "    <tr>\n",
              "      <th>1</th>\n",
              "      <td>2</td>\n",
              "      <td>45.000000</td>\n",
              "      <td>42.000000</td>\n",
              "      <td>42.166667</td>\n",
              "      <td>47.666667</td>\n",
              "      <td>49.250000</td>\n",
              "      <td>59.916667</td>\n",
              "      <td>69.000000</td>\n",
              "      <td>63.916667</td>\n",
              "      <td>76.333333</td>\n",
              "      <td>12.833333</td>\n",
              "      <td>79.916667</td>\n",
              "      <td>56.750000</td>\n",
              "      <td>1</td>\n",
              "    </tr>\n",
              "    <tr>\n",
              "      <th>2</th>\n",
              "      <td>3</td>\n",
              "      <td>45.000000</td>\n",
              "      <td>42.687500</td>\n",
              "      <td>43.500000</td>\n",
              "      <td>49.187500</td>\n",
              "      <td>51.437500</td>\n",
              "      <td>62.875000</td>\n",
              "      <td>71.625000</td>\n",
              "      <td>66.625000</td>\n",
              "      <td>79.312500</td>\n",
              "      <td>13.000000</td>\n",
              "      <td>82.125000</td>\n",
              "      <td>58.062500</td>\n",
              "      <td>1</td>\n",
              "    </tr>\n",
              "    <tr>\n",
              "      <th>3</th>\n",
              "      <td>4</td>\n",
              "      <td>45.866667</td>\n",
              "      <td>42.466667</td>\n",
              "      <td>43.800000</td>\n",
              "      <td>47.733333</td>\n",
              "      <td>49.466667</td>\n",
              "      <td>59.733333</td>\n",
              "      <td>68.133333</td>\n",
              "      <td>62.600000</td>\n",
              "      <td>73.466667</td>\n",
              "      <td>11.266667</td>\n",
              "      <td>77.600000</td>\n",
              "      <td>55.000000</td>\n",
              "      <td>2</td>\n",
              "    </tr>\n",
              "    <tr>\n",
              "      <th>4</th>\n",
              "      <td>5</td>\n",
              "      <td>46.000000</td>\n",
              "      <td>43.238095</td>\n",
              "      <td>45.238095</td>\n",
              "      <td>49.285714</td>\n",
              "      <td>50.904762</td>\n",
              "      <td>60.904762</td>\n",
              "      <td>68.952381</td>\n",
              "      <td>63.380952</td>\n",
              "      <td>74.547619</td>\n",
              "      <td>11.333333</td>\n",
              "      <td>77.452381</td>\n",
              "      <td>55.809524</td>\n",
              "      <td>2</td>\n",
              "    </tr>\n",
              "  </tbody>\n",
              "</table>\n",
              "</div>\n",
              "      <button class=\"colab-df-convert\" onclick=\"convertToInteractive('df-92bfc0d4-d210-45c8-be83-cb5a8403086b')\"\n",
              "              title=\"Convert this dataframe to an interactive table.\"\n",
              "              style=\"display:none;\">\n",
              "        \n",
              "  <svg xmlns=\"http://www.w3.org/2000/svg\" height=\"24px\"viewBox=\"0 0 24 24\"\n",
              "       width=\"24px\">\n",
              "    <path d=\"M0 0h24v24H0V0z\" fill=\"none\"/>\n",
              "    <path d=\"M18.56 5.44l.94 2.06.94-2.06 2.06-.94-2.06-.94-.94-2.06-.94 2.06-2.06.94zm-11 1L8.5 8.5l.94-2.06 2.06-.94-2.06-.94L8.5 2.5l-.94 2.06-2.06.94zm10 10l.94 2.06.94-2.06 2.06-.94-2.06-.94-.94-2.06-.94 2.06-2.06.94z\"/><path d=\"M17.41 7.96l-1.37-1.37c-.4-.4-.92-.59-1.43-.59-.52 0-1.04.2-1.43.59L10.3 9.45l-7.72 7.72c-.78.78-.78 2.05 0 2.83L4 21.41c.39.39.9.59 1.41.59.51 0 1.02-.2 1.41-.59l7.78-7.78 2.81-2.81c.8-.78.8-2.07 0-2.86zM5.41 20L4 18.59l7.72-7.72 1.47 1.35L5.41 20z\"/>\n",
              "  </svg>\n",
              "      </button>\n",
              "      \n",
              "  <style>\n",
              "    .colab-df-container {\n",
              "      display:flex;\n",
              "      flex-wrap:wrap;\n",
              "      gap: 12px;\n",
              "    }\n",
              "\n",
              "    .colab-df-convert {\n",
              "      background-color: #E8F0FE;\n",
              "      border: none;\n",
              "      border-radius: 50%;\n",
              "      cursor: pointer;\n",
              "      display: none;\n",
              "      fill: #1967D2;\n",
              "      height: 32px;\n",
              "      padding: 0 0 0 0;\n",
              "      width: 32px;\n",
              "    }\n",
              "\n",
              "    .colab-df-convert:hover {\n",
              "      background-color: #E2EBFA;\n",
              "      box-shadow: 0px 1px 2px rgba(60, 64, 67, 0.3), 0px 1px 3px 1px rgba(60, 64, 67, 0.15);\n",
              "      fill: #174EA6;\n",
              "    }\n",
              "\n",
              "    [theme=dark] .colab-df-convert {\n",
              "      background-color: #3B4455;\n",
              "      fill: #D2E3FC;\n",
              "    }\n",
              "\n",
              "    [theme=dark] .colab-df-convert:hover {\n",
              "      background-color: #434B5C;\n",
              "      box-shadow: 0px 1px 3px 1px rgba(0, 0, 0, 0.15);\n",
              "      filter: drop-shadow(0px 1px 2px rgba(0, 0, 0, 0.3));\n",
              "      fill: #FFFFFF;\n",
              "    }\n",
              "  </style>\n",
              "\n",
              "      <script>\n",
              "        const buttonEl =\n",
              "          document.querySelector('#df-92bfc0d4-d210-45c8-be83-cb5a8403086b button.colab-df-convert');\n",
              "        buttonEl.style.display =\n",
              "          google.colab.kernel.accessAllowed ? 'block' : 'none';\n",
              "\n",
              "        async function convertToInteractive(key) {\n",
              "          const element = document.querySelector('#df-92bfc0d4-d210-45c8-be83-cb5a8403086b');\n",
              "          const dataTable =\n",
              "            await google.colab.kernel.invokeFunction('convertToInteractive',\n",
              "                                                     [key], {});\n",
              "          if (!dataTable) return;\n",
              "\n",
              "          const docLinkHtml = 'Like what you see? Visit the ' +\n",
              "            '<a target=\"_blank\" href=https://colab.research.google.com/notebooks/data_table.ipynb>data table notebook</a>'\n",
              "            + ' to learn more about interactive tables.';\n",
              "          element.innerHTML = '';\n",
              "          dataTable['output_type'] = 'display_data';\n",
              "          await google.colab.output.renderOutput(dataTable, element);\n",
              "          const docLink = document.createElement('div');\n",
              "          docLink.innerHTML = docLinkHtml;\n",
              "          element.appendChild(docLink);\n",
              "        }\n",
              "      </script>\n",
              "    </div>\n",
              "  </div>\n",
              "  "
            ]
          },
          "metadata": {},
          "execution_count": 32
        }
      ],
      "source": [
        "# merge pixel dataframe to field_crop_pair dataframe\n",
        "\n",
        "train_df = pd.merge(train_data_grouped, field_crop_pair , on='field_id' )\n",
        "train_df.head()"
      ],
      "id": "ec783661"
    },
    {
      "cell_type": "code",
      "execution_count": 33,
      "metadata": {
        "colab": {
          "base_uri": "https://localhost:8080/",
          "height": 364
        },
        "id": "e56ef29e",
        "outputId": "684ed6dd-652d-45fc-a8de-9c073b31bd61"
      },
      "outputs": [
        {
          "output_type": "execute_result",
          "data": {
            "text/plain": [
              "     field_id        B01        B02        B03        B04        B05  \\\n",
              "5543     7322  45.000000  36.500000  32.250000  26.750000  31.000000   \n",
              "5544     7323  45.000000  36.000000  31.000000  24.090909  27.818182   \n",
              "5545     7324  45.000000  36.533333  31.666667  25.333333  29.133333   \n",
              "5546     7326  46.384615  39.000000  34.576923  30.653846  33.153846   \n",
              "5547     7327  46.000000  37.851852  32.629630  26.555556  29.296296   \n",
              "5548     7328  47.000000  40.100000  35.100000  29.650000  31.950000   \n",
              "5549     7331  46.652174  40.130435  35.130435  30.000000  32.608696   \n",
              "5550     7332  46.076923  39.653846  35.230769  29.423077  31.846154   \n",
              "\n",
              "            B06        B07        B08        B8A        B09        B11  \\\n",
              "5543  54.000000  67.875000  64.500000  75.000000  13.000000  49.625000   \n",
              "5544  56.363636  75.454545  71.090909  82.181818  13.000000  41.909091   \n",
              "5545  55.333333  70.800000  67.400000  77.600000  13.866667  43.066667   \n",
              "5546  51.076923  62.538462  59.269231  66.846154  12.461538  50.615385   \n",
              "5547  51.185185  65.518519  63.925926  70.444444  12.777778  40.740741   \n",
              "5548  51.600000  65.050000  60.550000  70.700000  11.000000  39.550000   \n",
              "5549  52.347826  66.347826  62.608696  71.521739  11.000000  44.434783   \n",
              "5550  49.615385  58.615385  53.346154  60.923077  10.461538  35.538462   \n",
              "\n",
              "            B12  crop_id  \n",
              "5543  26.750000        4  \n",
              "5544  20.909091        4  \n",
              "5545  21.466667        4  \n",
              "5546  33.923077        9  \n",
              "5547  21.518519        9  \n",
              "5548  20.000000        9  \n",
              "5549  25.217391        9  \n",
              "5550  18.615385       36  "
            ],
            "text/html": [
              "\n",
              "  <div id=\"df-6fa1e645-0c4d-41ff-8443-e00f0b59b83a\">\n",
              "    <div class=\"colab-df-container\">\n",
              "      <div>\n",
              "<style scoped>\n",
              "    .dataframe tbody tr th:only-of-type {\n",
              "        vertical-align: middle;\n",
              "    }\n",
              "\n",
              "    .dataframe tbody tr th {\n",
              "        vertical-align: top;\n",
              "    }\n",
              "\n",
              "    .dataframe thead th {\n",
              "        text-align: right;\n",
              "    }\n",
              "</style>\n",
              "<table border=\"1\" class=\"dataframe\">\n",
              "  <thead>\n",
              "    <tr style=\"text-align: right;\">\n",
              "      <th></th>\n",
              "      <th>field_id</th>\n",
              "      <th>B01</th>\n",
              "      <th>B02</th>\n",
              "      <th>B03</th>\n",
              "      <th>B04</th>\n",
              "      <th>B05</th>\n",
              "      <th>B06</th>\n",
              "      <th>B07</th>\n",
              "      <th>B08</th>\n",
              "      <th>B8A</th>\n",
              "      <th>B09</th>\n",
              "      <th>B11</th>\n",
              "      <th>B12</th>\n",
              "      <th>crop_id</th>\n",
              "    </tr>\n",
              "  </thead>\n",
              "  <tbody>\n",
              "    <tr>\n",
              "      <th>5543</th>\n",
              "      <td>7322</td>\n",
              "      <td>45.000000</td>\n",
              "      <td>36.500000</td>\n",
              "      <td>32.250000</td>\n",
              "      <td>26.750000</td>\n",
              "      <td>31.000000</td>\n",
              "      <td>54.000000</td>\n",
              "      <td>67.875000</td>\n",
              "      <td>64.500000</td>\n",
              "      <td>75.000000</td>\n",
              "      <td>13.000000</td>\n",
              "      <td>49.625000</td>\n",
              "      <td>26.750000</td>\n",
              "      <td>4</td>\n",
              "    </tr>\n",
              "    <tr>\n",
              "      <th>5544</th>\n",
              "      <td>7323</td>\n",
              "      <td>45.000000</td>\n",
              "      <td>36.000000</td>\n",
              "      <td>31.000000</td>\n",
              "      <td>24.090909</td>\n",
              "      <td>27.818182</td>\n",
              "      <td>56.363636</td>\n",
              "      <td>75.454545</td>\n",
              "      <td>71.090909</td>\n",
              "      <td>82.181818</td>\n",
              "      <td>13.000000</td>\n",
              "      <td>41.909091</td>\n",
              "      <td>20.909091</td>\n",
              "      <td>4</td>\n",
              "    </tr>\n",
              "    <tr>\n",
              "      <th>5545</th>\n",
              "      <td>7324</td>\n",
              "      <td>45.000000</td>\n",
              "      <td>36.533333</td>\n",
              "      <td>31.666667</td>\n",
              "      <td>25.333333</td>\n",
              "      <td>29.133333</td>\n",
              "      <td>55.333333</td>\n",
              "      <td>70.800000</td>\n",
              "      <td>67.400000</td>\n",
              "      <td>77.600000</td>\n",
              "      <td>13.866667</td>\n",
              "      <td>43.066667</td>\n",
              "      <td>21.466667</td>\n",
              "      <td>4</td>\n",
              "    </tr>\n",
              "    <tr>\n",
              "      <th>5546</th>\n",
              "      <td>7326</td>\n",
              "      <td>46.384615</td>\n",
              "      <td>39.000000</td>\n",
              "      <td>34.576923</td>\n",
              "      <td>30.653846</td>\n",
              "      <td>33.153846</td>\n",
              "      <td>51.076923</td>\n",
              "      <td>62.538462</td>\n",
              "      <td>59.269231</td>\n",
              "      <td>66.846154</td>\n",
              "      <td>12.461538</td>\n",
              "      <td>50.615385</td>\n",
              "      <td>33.923077</td>\n",
              "      <td>9</td>\n",
              "    </tr>\n",
              "    <tr>\n",
              "      <th>5547</th>\n",
              "      <td>7327</td>\n",
              "      <td>46.000000</td>\n",
              "      <td>37.851852</td>\n",
              "      <td>32.629630</td>\n",
              "      <td>26.555556</td>\n",
              "      <td>29.296296</td>\n",
              "      <td>51.185185</td>\n",
              "      <td>65.518519</td>\n",
              "      <td>63.925926</td>\n",
              "      <td>70.444444</td>\n",
              "      <td>12.777778</td>\n",
              "      <td>40.740741</td>\n",
              "      <td>21.518519</td>\n",
              "      <td>9</td>\n",
              "    </tr>\n",
              "    <tr>\n",
              "      <th>5548</th>\n",
              "      <td>7328</td>\n",
              "      <td>47.000000</td>\n",
              "      <td>40.100000</td>\n",
              "      <td>35.100000</td>\n",
              "      <td>29.650000</td>\n",
              "      <td>31.950000</td>\n",
              "      <td>51.600000</td>\n",
              "      <td>65.050000</td>\n",
              "      <td>60.550000</td>\n",
              "      <td>70.700000</td>\n",
              "      <td>11.000000</td>\n",
              "      <td>39.550000</td>\n",
              "      <td>20.000000</td>\n",
              "      <td>9</td>\n",
              "    </tr>\n",
              "    <tr>\n",
              "      <th>5549</th>\n",
              "      <td>7331</td>\n",
              "      <td>46.652174</td>\n",
              "      <td>40.130435</td>\n",
              "      <td>35.130435</td>\n",
              "      <td>30.000000</td>\n",
              "      <td>32.608696</td>\n",
              "      <td>52.347826</td>\n",
              "      <td>66.347826</td>\n",
              "      <td>62.608696</td>\n",
              "      <td>71.521739</td>\n",
              "      <td>11.000000</td>\n",
              "      <td>44.434783</td>\n",
              "      <td>25.217391</td>\n",
              "      <td>9</td>\n",
              "    </tr>\n",
              "    <tr>\n",
              "      <th>5550</th>\n",
              "      <td>7332</td>\n",
              "      <td>46.076923</td>\n",
              "      <td>39.653846</td>\n",
              "      <td>35.230769</td>\n",
              "      <td>29.423077</td>\n",
              "      <td>31.846154</td>\n",
              "      <td>49.615385</td>\n",
              "      <td>58.615385</td>\n",
              "      <td>53.346154</td>\n",
              "      <td>60.923077</td>\n",
              "      <td>10.461538</td>\n",
              "      <td>35.538462</td>\n",
              "      <td>18.615385</td>\n",
              "      <td>36</td>\n",
              "    </tr>\n",
              "  </tbody>\n",
              "</table>\n",
              "</div>\n",
              "      <button class=\"colab-df-convert\" onclick=\"convertToInteractive('df-6fa1e645-0c4d-41ff-8443-e00f0b59b83a')\"\n",
              "              title=\"Convert this dataframe to an interactive table.\"\n",
              "              style=\"display:none;\">\n",
              "        \n",
              "  <svg xmlns=\"http://www.w3.org/2000/svg\" height=\"24px\"viewBox=\"0 0 24 24\"\n",
              "       width=\"24px\">\n",
              "    <path d=\"M0 0h24v24H0V0z\" fill=\"none\"/>\n",
              "    <path d=\"M18.56 5.44l.94 2.06.94-2.06 2.06-.94-2.06-.94-.94-2.06-.94 2.06-2.06.94zm-11 1L8.5 8.5l.94-2.06 2.06-.94-2.06-.94L8.5 2.5l-.94 2.06-2.06.94zm10 10l.94 2.06.94-2.06 2.06-.94-2.06-.94-.94-2.06-.94 2.06-2.06.94z\"/><path d=\"M17.41 7.96l-1.37-1.37c-.4-.4-.92-.59-1.43-.59-.52 0-1.04.2-1.43.59L10.3 9.45l-7.72 7.72c-.78.78-.78 2.05 0 2.83L4 21.41c.39.39.9.59 1.41.59.51 0 1.02-.2 1.41-.59l7.78-7.78 2.81-2.81c.8-.78.8-2.07 0-2.86zM5.41 20L4 18.59l7.72-7.72 1.47 1.35L5.41 20z\"/>\n",
              "  </svg>\n",
              "      </button>\n",
              "      \n",
              "  <style>\n",
              "    .colab-df-container {\n",
              "      display:flex;\n",
              "      flex-wrap:wrap;\n",
              "      gap: 12px;\n",
              "    }\n",
              "\n",
              "    .colab-df-convert {\n",
              "      background-color: #E8F0FE;\n",
              "      border: none;\n",
              "      border-radius: 50%;\n",
              "      cursor: pointer;\n",
              "      display: none;\n",
              "      fill: #1967D2;\n",
              "      height: 32px;\n",
              "      padding: 0 0 0 0;\n",
              "      width: 32px;\n",
              "    }\n",
              "\n",
              "    .colab-df-convert:hover {\n",
              "      background-color: #E2EBFA;\n",
              "      box-shadow: 0px 1px 2px rgba(60, 64, 67, 0.3), 0px 1px 3px 1px rgba(60, 64, 67, 0.15);\n",
              "      fill: #174EA6;\n",
              "    }\n",
              "\n",
              "    [theme=dark] .colab-df-convert {\n",
              "      background-color: #3B4455;\n",
              "      fill: #D2E3FC;\n",
              "    }\n",
              "\n",
              "    [theme=dark] .colab-df-convert:hover {\n",
              "      background-color: #434B5C;\n",
              "      box-shadow: 0px 1px 3px 1px rgba(0, 0, 0, 0.15);\n",
              "      filter: drop-shadow(0px 1px 2px rgba(0, 0, 0, 0.3));\n",
              "      fill: #FFFFFF;\n",
              "    }\n",
              "  </style>\n",
              "\n",
              "      <script>\n",
              "        const buttonEl =\n",
              "          document.querySelector('#df-6fa1e645-0c4d-41ff-8443-e00f0b59b83a button.colab-df-convert');\n",
              "        buttonEl.style.display =\n",
              "          google.colab.kernel.accessAllowed ? 'block' : 'none';\n",
              "\n",
              "        async function convertToInteractive(key) {\n",
              "          const element = document.querySelector('#df-6fa1e645-0c4d-41ff-8443-e00f0b59b83a');\n",
              "          const dataTable =\n",
              "            await google.colab.kernel.invokeFunction('convertToInteractive',\n",
              "                                                     [key], {});\n",
              "          if (!dataTable) return;\n",
              "\n",
              "          const docLinkHtml = 'Like what you see? Visit the ' +\n",
              "            '<a target=\"_blank\" href=https://colab.research.google.com/notebooks/data_table.ipynb>data table notebook</a>'\n",
              "            + ' to learn more about interactive tables.';\n",
              "          element.innerHTML = '';\n",
              "          dataTable['output_type'] = 'display_data';\n",
              "          await google.colab.output.renderOutput(dataTable, element);\n",
              "          const docLink = document.createElement('div');\n",
              "          docLink.innerHTML = docLinkHtml;\n",
              "          element.appendChild(docLink);\n",
              "        }\n",
              "      </script>\n",
              "    </div>\n",
              "  </div>\n",
              "  "
            ]
          },
          "metadata": {},
          "execution_count": 33
        }
      ],
      "source": [
        "train_df.tail(8)"
      ],
      "id": "e56ef29e"
    },
    {
      "cell_type": "code",
      "execution_count": 34,
      "metadata": {
        "colab": {
          "base_uri": "https://localhost:8080/"
        },
        "id": "46c2df79",
        "outputId": "cb12d9db-8138-48d0-ddfe-cc855555d508"
      },
      "outputs": [
        {
          "output_type": "execute_result",
          "data": {
            "text/plain": [
              "(5551, 14)"
            ]
          },
          "metadata": {},
          "execution_count": 34
        }
      ],
      "source": [
        "train_df.shape"
      ],
      "id": "46c2df79"
    },
    {
      "cell_type": "code",
      "execution_count": 35,
      "metadata": {
        "id": "b12f4b4d"
      },
      "outputs": [],
      "source": [
        "# split data for model training and evaluation \n",
        "\n",
        "X_train, X_test, y_train, y_test =  train_test_split(train_df.drop(['field_id', 'crop_id'], axis=1), train_df['crop_id'] , test_size=0.3, random_state=24)"
      ],
      "id": "b12f4b4d"
    },
    {
      "cell_type": "markdown",
      "source": [],
      "metadata": {
        "id": "BKUiGGoR4SKV"
      },
      "id": "BKUiGGoR4SKV"
    },
    {
      "cell_type": "code",
      "execution_count": 36,
      "metadata": {
        "id": "sBLiqo0lV6lT"
      },
      "outputs": [],
      "source": [
        "rf = RandomForestClassifier(random_state = 6)#its the random state where if he score is gicen none, it will output varying results but when given a specific value like 6 here, we get constant outputs "
      ],
      "id": "sBLiqo0lV6lT"
    },
    {
      "cell_type": "code",
      "execution_count": 37,
      "metadata": {
        "colab": {
          "base_uri": "https://localhost:8080/"
        },
        "id": "85d6254d",
        "outputId": "0b149b80-de2e-4f5c-cf9d-779f1e8889f9"
      },
      "outputs": [
        {
          "output_type": "execute_result",
          "data": {
            "text/plain": [
              "((3885, 12), (1666, 12), (3885,), (1666,))"
            ]
          },
          "metadata": {},
          "execution_count": 37
        }
      ],
      "source": [
        "X_train.shape, X_test.shape, y_train.shape, y_test.shape"
      ],
      "id": "85d6254d"
    },
    {
      "cell_type": "markdown",
      "metadata": {
        "id": "KYg1-qzfkAN3"
      },
      "source": [
        "This is the testing on the hyperparameter setting. also additional model tuning can be done like implementing cross validation "
      ],
      "id": "KYg1-qzfkAN3"
    },
    {
      "cell_type": "code",
      "execution_count": 38,
      "metadata": {
        "colab": {
          "base_uri": "https://localhost:8080/"
        },
        "id": "K3XduCEaj-qk",
        "outputId": "8f542bd9-b723-477c-d4d0-761e5cb55508"
      },
      "outputs": [
        {
          "output_type": "execute_result",
          "data": {
            "text/plain": [
              "RandomForestClassifier(random_state=6)"
            ]
          },
          "metadata": {},
          "execution_count": 38
        }
      ],
      "source": [
        "rf.fit(X_train, y_train.astype(int))  #rf.fit(X_train, y_train.astype(int))"
      ],
      "id": "K3XduCEaj-qk"
    },
    {
      "cell_type": "code",
      "execution_count": 38,
      "metadata": {
        "id": "QiokVdmqj-3M"
      },
      "outputs": [],
      "source": [],
      "id": "QiokVdmqj-3M"
    },
    {
      "cell_type": "markdown",
      "metadata": {
        "id": "a8b563b9"
      },
      "source": [
        "# MODEL TRAINING"
      ],
      "id": "a8b563b9"
    },
    {
      "cell_type": "code",
      "execution_count": 38,
      "metadata": {
        "id": "S0LQo1-Zj_A3"
      },
      "outputs": [],
      "source": [],
      "id": "S0LQo1-Zj_A3"
    },
    {
      "cell_type": "code",
      "execution_count": 39,
      "metadata": {
        "id": "wF8c8io4j_DL"
      },
      "outputs": [],
      "source": [
        "from enum import auto\n",
        "import pandas as pd\n",
        "import numpy as np \n",
        "from sklearn import ensemble\n",
        "from sklearn import metrics\n",
        "from sklearn import model_selection\n",
        "import keras\n",
        "from keras.models import Sequential\n",
        "from keras.layers import Dense\n",
        "from keras.models import load_model\n",
        "\n",
        "#if __name__==\"_main_\":\n",
        "\n",
        "#empty model\n",
        "classifier = ensemble.RandomForestClassifier(n_jobs = -1)\n",
        "param_grid = {\n",
        "    \"n_estimators\" : np.arange(100,1500,100),\n",
        "    'criterion' : ['gini', 'entropy'],\n",
        "    'max_depth': np.arange(2,20),\n",
        "    'min_samples_leaf': np.arange(1,10,1),\n",
        "    'min_samples_split' : np.arange(2,10,1),\n",
        "    'max_features': ['auto', 'log2']\n",
        "}"
      ],
      "id": "wF8c8io4j_DL"
    },
    {
      "cell_type": "code",
      "execution_count": 40,
      "metadata": {
        "id": "GBBMvvHPj_HN"
      },
      "outputs": [],
      "source": [
        "from sklearn import model_selection\n",
        "model = model_selection.RandomizedSearchCV(\n",
        "    estimator= classifier,\n",
        "    param_distributions= param_grid,\n",
        "    scoring=\"accuracy\",\n",
        "    verbose=10,\n",
        "    n_jobs = 1,\n",
        "    cv=5,\n",
        ")"
      ],
      "id": "GBBMvvHPj_HN"
    },
    {
      "cell_type": "code",
      "source": [],
      "metadata": {
        "id": "G2f112ciYhZp"
      },
      "id": "G2f112ciYhZp",
      "execution_count": 40,
      "outputs": []
    },
    {
      "cell_type": "markdown",
      "source": [
        "0.6301158301158302\n",
        "{'bootstrap': True, 'ccp_alpha': 0.0, 'class_weight': None, 'criterion': 'gini', 'max_depth': 12, 'max_features': 'log2', 'max_leaf_nodes': None, 'max_samples': None, 'min_impurity_decrease': 0.0, 'min_samples_leaf': 7, 'min_samples_split': 6, 'min_weight_fraction_leaf': 0.0, 'n_estimators': 1300, 'n_jobs': -1, 'oob_score': False, 'random_state': None, 'verbose': 0, 'warm_start': False}"
      ],
      "metadata": {
        "id": "_8FqsKBLYiSU"
      },
      "id": "_8FqsKBLYiSU"
    },
    {
      "cell_type": "code",
      "execution_count": 41,
      "metadata": {
        "colab": {
          "base_uri": "https://localhost:8080/"
        },
        "id": "H2CiirJVj_T1",
        "outputId": "bbb50591-714e-4a0b-b6ee-b2fcc3457ebf"
      },
      "outputs": [
        {
          "output_type": "stream",
          "name": "stdout",
          "text": [
            "Fitting 5 folds for each of 10 candidates, totalling 50 fits\n",
            "[CV 1/5; 1/10] START criterion=entropy, max_depth=19, max_features=auto, min_samples_leaf=3, min_samples_split=4, n_estimators=100\n",
            "[CV 1/5; 1/10] END criterion=entropy, max_depth=19, max_features=auto, min_samples_leaf=3, min_samples_split=4, n_estimators=100;, score=0.629 total time=   4.2s\n",
            "[CV 2/5; 1/10] START criterion=entropy, max_depth=19, max_features=auto, min_samples_leaf=3, min_samples_split=4, n_estimators=100\n",
            "[CV 2/5; 1/10] END criterion=entropy, max_depth=19, max_features=auto, min_samples_leaf=3, min_samples_split=4, n_estimators=100;, score=0.642 total time=   2.3s\n",
            "[CV 3/5; 1/10] START criterion=entropy, max_depth=19, max_features=auto, min_samples_leaf=3, min_samples_split=4, n_estimators=100\n",
            "[CV 3/5; 1/10] END criterion=entropy, max_depth=19, max_features=auto, min_samples_leaf=3, min_samples_split=4, n_estimators=100;, score=0.650 total time=   2.3s\n",
            "[CV 4/5; 1/10] START criterion=entropy, max_depth=19, max_features=auto, min_samples_leaf=3, min_samples_split=4, n_estimators=100\n",
            "[CV 4/5; 1/10] END criterion=entropy, max_depth=19, max_features=auto, min_samples_leaf=3, min_samples_split=4, n_estimators=100;, score=0.623 total time=   2.3s\n",
            "[CV 5/5; 1/10] START criterion=entropy, max_depth=19, max_features=auto, min_samples_leaf=3, min_samples_split=4, n_estimators=100\n",
            "[CV 5/5; 1/10] END criterion=entropy, max_depth=19, max_features=auto, min_samples_leaf=3, min_samples_split=4, n_estimators=100;, score=0.627 total time=   2.3s\n",
            "[CV 1/5; 2/10] START criterion=entropy, max_depth=4, max_features=log2, min_samples_leaf=9, min_samples_split=4, n_estimators=400\n",
            "[CV 1/5; 2/10] END criterion=entropy, max_depth=4, max_features=log2, min_samples_leaf=9, min_samples_split=4, n_estimators=400;, score=0.592 total time=   5.1s\n",
            "[CV 2/5; 2/10] START criterion=entropy, max_depth=4, max_features=log2, min_samples_leaf=9, min_samples_split=4, n_estimators=400\n",
            "[CV 2/5; 2/10] END criterion=entropy, max_depth=4, max_features=log2, min_samples_leaf=9, min_samples_split=4, n_estimators=400;, score=0.595 total time=   4.9s\n",
            "[CV 3/5; 2/10] START criterion=entropy, max_depth=4, max_features=log2, min_samples_leaf=9, min_samples_split=4, n_estimators=400\n",
            "[CV 3/5; 2/10] END criterion=entropy, max_depth=4, max_features=log2, min_samples_leaf=9, min_samples_split=4, n_estimators=400;, score=0.586 total time=   5.0s\n",
            "[CV 4/5; 2/10] START criterion=entropy, max_depth=4, max_features=log2, min_samples_leaf=9, min_samples_split=4, n_estimators=400\n",
            "[CV 4/5; 2/10] END criterion=entropy, max_depth=4, max_features=log2, min_samples_leaf=9, min_samples_split=4, n_estimators=400;, score=0.592 total time=   5.0s\n",
            "[CV 5/5; 2/10] START criterion=entropy, max_depth=4, max_features=log2, min_samples_leaf=9, min_samples_split=4, n_estimators=400\n",
            "[CV 5/5; 2/10] END criterion=entropy, max_depth=4, max_features=log2, min_samples_leaf=9, min_samples_split=4, n_estimators=400;, score=0.582 total time=   5.0s\n",
            "[CV 1/5; 3/10] START criterion=gini, max_depth=12, max_features=log2, min_samples_leaf=1, min_samples_split=6, n_estimators=300\n",
            "[CV 1/5; 3/10] END criterion=gini, max_depth=12, max_features=log2, min_samples_leaf=1, min_samples_split=6, n_estimators=300;, score=0.636 total time=   2.7s\n",
            "[CV 2/5; 3/10] START criterion=gini, max_depth=12, max_features=log2, min_samples_leaf=1, min_samples_split=6, n_estimators=300\n",
            "[CV 2/5; 3/10] END criterion=gini, max_depth=12, max_features=log2, min_samples_leaf=1, min_samples_split=6, n_estimators=300;, score=0.647 total time=   2.6s\n",
            "[CV 3/5; 3/10] START criterion=gini, max_depth=12, max_features=log2, min_samples_leaf=1, min_samples_split=6, n_estimators=300\n",
            "[CV 3/5; 3/10] END criterion=gini, max_depth=12, max_features=log2, min_samples_leaf=1, min_samples_split=6, n_estimators=300;, score=0.651 total time=   2.6s\n",
            "[CV 4/5; 3/10] START criterion=gini, max_depth=12, max_features=log2, min_samples_leaf=1, min_samples_split=6, n_estimators=300\n",
            "[CV 4/5; 3/10] END criterion=gini, max_depth=12, max_features=log2, min_samples_leaf=1, min_samples_split=6, n_estimators=300;, score=0.627 total time=   2.6s\n",
            "[CV 5/5; 3/10] START criterion=gini, max_depth=12, max_features=log2, min_samples_leaf=1, min_samples_split=6, n_estimators=300\n",
            "[CV 5/5; 3/10] END criterion=gini, max_depth=12, max_features=log2, min_samples_leaf=1, min_samples_split=6, n_estimators=300;, score=0.632 total time=   2.6s\n",
            "[CV 1/5; 4/10] START criterion=entropy, max_depth=7, max_features=auto, min_samples_leaf=9, min_samples_split=2, n_estimators=1400\n",
            "[CV 1/5; 4/10] END criterion=entropy, max_depth=7, max_features=auto, min_samples_leaf=9, min_samples_split=2, n_estimators=1400;, score=0.615 total time=  23.1s\n",
            "[CV 2/5; 4/10] START criterion=entropy, max_depth=7, max_features=auto, min_samples_leaf=9, min_samples_split=2, n_estimators=1400\n",
            "[CV 2/5; 4/10] END criterion=entropy, max_depth=7, max_features=auto, min_samples_leaf=9, min_samples_split=2, n_estimators=1400;, score=0.620 total time=  23.0s\n",
            "[CV 3/5; 4/10] START criterion=entropy, max_depth=7, max_features=auto, min_samples_leaf=9, min_samples_split=2, n_estimators=1400\n",
            "[CV 3/5; 4/10] END criterion=entropy, max_depth=7, max_features=auto, min_samples_leaf=9, min_samples_split=2, n_estimators=1400;, score=0.615 total time=  23.1s\n",
            "[CV 4/5; 4/10] START criterion=entropy, max_depth=7, max_features=auto, min_samples_leaf=9, min_samples_split=2, n_estimators=1400\n",
            "[CV 4/5; 4/10] END criterion=entropy, max_depth=7, max_features=auto, min_samples_leaf=9, min_samples_split=2, n_estimators=1400;, score=0.623 total time=  22.8s\n",
            "[CV 5/5; 4/10] START criterion=entropy, max_depth=7, max_features=auto, min_samples_leaf=9, min_samples_split=2, n_estimators=1400\n",
            "[CV 5/5; 4/10] END criterion=entropy, max_depth=7, max_features=auto, min_samples_leaf=9, min_samples_split=2, n_estimators=1400;, score=0.606 total time=  24.5s\n",
            "[CV 1/5; 5/10] START criterion=entropy, max_depth=19, max_features=log2, min_samples_leaf=6, min_samples_split=7, n_estimators=800\n",
            "[CV 1/5; 5/10] END criterion=entropy, max_depth=19, max_features=log2, min_samples_leaf=6, min_samples_split=7, n_estimators=800;, score=0.625 total time=  16.0s\n",
            "[CV 2/5; 5/10] START criterion=entropy, max_depth=19, max_features=log2, min_samples_leaf=6, min_samples_split=7, n_estimators=800\n",
            "[CV 2/5; 5/10] END criterion=entropy, max_depth=19, max_features=log2, min_samples_leaf=6, min_samples_split=7, n_estimators=800;, score=0.646 total time=  16.1s\n",
            "[CV 3/5; 5/10] START criterion=entropy, max_depth=19, max_features=log2, min_samples_leaf=6, min_samples_split=7, n_estimators=800\n",
            "[CV 3/5; 5/10] END criterion=entropy, max_depth=19, max_features=log2, min_samples_leaf=6, min_samples_split=7, n_estimators=800;, score=0.650 total time=  16.1s\n",
            "[CV 4/5; 5/10] START criterion=entropy, max_depth=19, max_features=log2, min_samples_leaf=6, min_samples_split=7, n_estimators=800\n",
            "[CV 4/5; 5/10] END criterion=entropy, max_depth=19, max_features=log2, min_samples_leaf=6, min_samples_split=7, n_estimators=800;, score=0.628 total time=  16.0s\n",
            "[CV 5/5; 5/10] START criterion=entropy, max_depth=19, max_features=log2, min_samples_leaf=6, min_samples_split=7, n_estimators=800\n",
            "[CV 5/5; 5/10] END criterion=entropy, max_depth=19, max_features=log2, min_samples_leaf=6, min_samples_split=7, n_estimators=800;, score=0.629 total time=  16.0s\n",
            "[CV 1/5; 6/10] START criterion=gini, max_depth=19, max_features=auto, min_samples_leaf=8, min_samples_split=4, n_estimators=900\n",
            "[CV 1/5; 6/10] END criterion=gini, max_depth=19, max_features=auto, min_samples_leaf=8, min_samples_split=4, n_estimators=900;, score=0.622 total time=   6.7s\n",
            "[CV 2/5; 6/10] START criterion=gini, max_depth=19, max_features=auto, min_samples_leaf=8, min_samples_split=4, n_estimators=900\n",
            "[CV 2/5; 6/10] END criterion=gini, max_depth=19, max_features=auto, min_samples_leaf=8, min_samples_split=4, n_estimators=900;, score=0.651 total time=   6.9s\n",
            "[CV 3/5; 6/10] START criterion=gini, max_depth=19, max_features=auto, min_samples_leaf=8, min_samples_split=4, n_estimators=900\n",
            "[CV 3/5; 6/10] END criterion=gini, max_depth=19, max_features=auto, min_samples_leaf=8, min_samples_split=4, n_estimators=900;, score=0.646 total time=   6.7s\n",
            "[CV 4/5; 6/10] START criterion=gini, max_depth=19, max_features=auto, min_samples_leaf=8, min_samples_split=4, n_estimators=900\n",
            "[CV 4/5; 6/10] END criterion=gini, max_depth=19, max_features=auto, min_samples_leaf=8, min_samples_split=4, n_estimators=900;, score=0.634 total time=   6.7s\n",
            "[CV 5/5; 6/10] START criterion=gini, max_depth=19, max_features=auto, min_samples_leaf=8, min_samples_split=4, n_estimators=900\n",
            "[CV 5/5; 6/10] END criterion=gini, max_depth=19, max_features=auto, min_samples_leaf=8, min_samples_split=4, n_estimators=900;, score=0.623 total time=   6.7s\n",
            "[CV 1/5; 7/10] START criterion=entropy, max_depth=12, max_features=log2, min_samples_leaf=6, min_samples_split=3, n_estimators=900\n",
            "[CV 1/5; 7/10] END criterion=entropy, max_depth=12, max_features=log2, min_samples_leaf=6, min_samples_split=3, n_estimators=900;, score=0.631 total time=  18.0s\n",
            "[CV 2/5; 7/10] START criterion=entropy, max_depth=12, max_features=log2, min_samples_leaf=6, min_samples_split=3, n_estimators=900\n",
            "[CV 2/5; 7/10] END criterion=entropy, max_depth=12, max_features=log2, min_samples_leaf=6, min_samples_split=3, n_estimators=900;, score=0.651 total time=  18.5s\n",
            "[CV 3/5; 7/10] START criterion=entropy, max_depth=12, max_features=log2, min_samples_leaf=6, min_samples_split=3, n_estimators=900\n",
            "[CV 3/5; 7/10] END criterion=entropy, max_depth=12, max_features=log2, min_samples_leaf=6, min_samples_split=3, n_estimators=900;, score=0.642 total time=  19.3s\n",
            "[CV 4/5; 7/10] START criterion=entropy, max_depth=12, max_features=log2, min_samples_leaf=6, min_samples_split=3, n_estimators=900\n",
            "[CV 4/5; 7/10] END criterion=entropy, max_depth=12, max_features=log2, min_samples_leaf=6, min_samples_split=3, n_estimators=900;, score=0.623 total time=  17.7s\n",
            "[CV 5/5; 7/10] START criterion=entropy, max_depth=12, max_features=log2, min_samples_leaf=6, min_samples_split=3, n_estimators=900\n",
            "[CV 5/5; 7/10] END criterion=entropy, max_depth=12, max_features=log2, min_samples_leaf=6, min_samples_split=3, n_estimators=900;, score=0.631 total time=  17.9s\n",
            "[CV 1/5; 8/10] START criterion=gini, max_depth=8, max_features=auto, min_samples_leaf=1, min_samples_split=3, n_estimators=900\n",
            "[CV 1/5; 8/10] END criterion=gini, max_depth=8, max_features=auto, min_samples_leaf=1, min_samples_split=3, n_estimators=900;, score=0.622 total time=   6.3s\n",
            "[CV 2/5; 8/10] START criterion=gini, max_depth=8, max_features=auto, min_samples_leaf=1, min_samples_split=3, n_estimators=900\n",
            "[CV 2/5; 8/10] END criterion=gini, max_depth=8, max_features=auto, min_samples_leaf=1, min_samples_split=3, n_estimators=900;, score=0.641 total time=   6.3s\n",
            "[CV 3/5; 8/10] START criterion=gini, max_depth=8, max_features=auto, min_samples_leaf=1, min_samples_split=3, n_estimators=900\n",
            "[CV 3/5; 8/10] END criterion=gini, max_depth=8, max_features=auto, min_samples_leaf=1, min_samples_split=3, n_estimators=900;, score=0.631 total time=   6.2s\n",
            "[CV 4/5; 8/10] START criterion=gini, max_depth=8, max_features=auto, min_samples_leaf=1, min_samples_split=3, n_estimators=900\n",
            "[CV 4/5; 8/10] END criterion=gini, max_depth=8, max_features=auto, min_samples_leaf=1, min_samples_split=3, n_estimators=900;, score=0.645 total time=   6.2s\n",
            "[CV 5/5; 8/10] START criterion=gini, max_depth=8, max_features=auto, min_samples_leaf=1, min_samples_split=3, n_estimators=900\n",
            "[CV 5/5; 8/10] END criterion=gini, max_depth=8, max_features=auto, min_samples_leaf=1, min_samples_split=3, n_estimators=900;, score=0.624 total time=   6.1s\n",
            "[CV 1/5; 9/10] START criterion=gini, max_depth=4, max_features=log2, min_samples_leaf=5, min_samples_split=3, n_estimators=200\n",
            "[CV 1/5; 9/10] END criterion=gini, max_depth=4, max_features=log2, min_samples_leaf=5, min_samples_split=3, n_estimators=200;, score=0.595 total time=   1.0s\n",
            "[CV 2/5; 9/10] START criterion=gini, max_depth=4, max_features=log2, min_samples_leaf=5, min_samples_split=3, n_estimators=200\n",
            "[CV 2/5; 9/10] END criterion=gini, max_depth=4, max_features=log2, min_samples_leaf=5, min_samples_split=3, n_estimators=200;, score=0.592 total time=   1.1s\n",
            "[CV 3/5; 9/10] START criterion=gini, max_depth=4, max_features=log2, min_samples_leaf=5, min_samples_split=3, n_estimators=200\n",
            "[CV 3/5; 9/10] END criterion=gini, max_depth=4, max_features=log2, min_samples_leaf=5, min_samples_split=3, n_estimators=200;, score=0.584 total time=   1.1s\n",
            "[CV 4/5; 9/10] START criterion=gini, max_depth=4, max_features=log2, min_samples_leaf=5, min_samples_split=3, n_estimators=200\n",
            "[CV 4/5; 9/10] END criterion=gini, max_depth=4, max_features=log2, min_samples_leaf=5, min_samples_split=3, n_estimators=200;, score=0.593 total time=   1.0s\n",
            "[CV 5/5; 9/10] START criterion=gini, max_depth=4, max_features=log2, min_samples_leaf=5, min_samples_split=3, n_estimators=200\n",
            "[CV 5/5; 9/10] END criterion=gini, max_depth=4, max_features=log2, min_samples_leaf=5, min_samples_split=3, n_estimators=200;, score=0.588 total time=   1.0s\n",
            "[CV 1/5; 10/10] START criterion=entropy, max_depth=15, max_features=auto, min_samples_leaf=9, min_samples_split=9, n_estimators=700\n",
            "[CV 1/5; 10/10] END criterion=entropy, max_depth=15, max_features=auto, min_samples_leaf=9, min_samples_split=9, n_estimators=700;, score=0.618 total time=  13.3s\n",
            "[CV 2/5; 10/10] START criterion=entropy, max_depth=15, max_features=auto, min_samples_leaf=9, min_samples_split=9, n_estimators=700\n",
            "[CV 2/5; 10/10] END criterion=entropy, max_depth=15, max_features=auto, min_samples_leaf=9, min_samples_split=9, n_estimators=700;, score=0.644 total time=  13.3s\n",
            "[CV 3/5; 10/10] START criterion=entropy, max_depth=15, max_features=auto, min_samples_leaf=9, min_samples_split=9, n_estimators=700\n",
            "[CV 3/5; 10/10] END criterion=entropy, max_depth=15, max_features=auto, min_samples_leaf=9, min_samples_split=9, n_estimators=700;, score=0.638 total time=  13.3s\n",
            "[CV 4/5; 10/10] START criterion=entropy, max_depth=15, max_features=auto, min_samples_leaf=9, min_samples_split=9, n_estimators=700\n",
            "[CV 4/5; 10/10] END criterion=entropy, max_depth=15, max_features=auto, min_samples_leaf=9, min_samples_split=9, n_estimators=700;, score=0.624 total time=  13.2s\n",
            "[CV 5/5; 10/10] START criterion=entropy, max_depth=15, max_features=auto, min_samples_leaf=9, min_samples_split=9, n_estimators=700\n",
            "[CV 5/5; 10/10] END criterion=entropy, max_depth=15, max_features=auto, min_samples_leaf=9, min_samples_split=9, n_estimators=700;, score=0.629 total time=  13.3s\n"
          ]
        },
        {
          "output_type": "execute_result",
          "data": {
            "text/plain": [
              "RandomizedSearchCV(cv=5, estimator=RandomForestClassifier(n_jobs=-1), n_jobs=1,\n",
              "                   param_distributions={'criterion': ['gini', 'entropy'],\n",
              "                                        'max_depth': array([ 2,  3,  4,  5,  6,  7,  8,  9, 10, 11, 12, 13, 14, 15, 16, 17, 18,\n",
              "       19]),\n",
              "                                        'max_features': ['auto', 'log2'],\n",
              "                                        'min_samples_leaf': array([1, 2, 3, 4, 5, 6, 7, 8, 9]),\n",
              "                                        'min_samples_split': array([2, 3, 4, 5, 6, 7, 8, 9]),\n",
              "                                        'n_estimators': array([ 100,  200,  300,  400,  500,  600,  700,  800,  900, 1000, 1100,\n",
              "       1200, 1300, 1400])},\n",
              "                   scoring='accuracy', verbose=10)"
            ]
          },
          "metadata": {},
          "execution_count": 41
        }
      ],
      "source": [
        "model.fit(X_train,y_train)"
      ],
      "id": "H2CiirJVj_T1"
    },
    {
      "cell_type": "code",
      "execution_count": null,
      "metadata": {
        "id": "rxdDuoSsK_ya"
      },
      "outputs": [],
      "source": [
        "print(model.best_score_)\n",
        "print(model.best_estimator_.get_params())"
      ],
      "id": "rxdDuoSsK_ya"
    },
    {
      "cell_type": "code",
      "execution_count": null,
      "metadata": {
        "id": "vQin2EPTyziA"
      },
      "outputs": [],
      "source": [
        "from google.colab import drive\n",
        "drive.mount('/content/drive')"
      ],
      "id": "vQin2EPTyziA"
    },
    {
      "cell_type": "code",
      "execution_count": null,
      "metadata": {
        "id": "920fa810"
      },
      "outputs": [],
      "source": [
        "# trained classes\n",
        "\n",
        "model.classes_"
      ],
      "id": "920fa810"
    },
    {
      "cell_type": "markdown",
      "metadata": {
        "id": "79fd269d"
      },
      "source": [
        "# MODEL EVALUATION"
      ],
      "id": "79fd269d"
    },
    {
      "cell_type": "code",
      "execution_count": null,
      "metadata": {
        "id": "0b697b14",
        "scrolled": true
      },
      "outputs": [],
      "source": [
        "from sklearn.metrics import classification_report\n",
        "y_pred_crop = model.predict(X_test)\n",
        "\n",
        "print(classification_report(y_test,y_pred_crop))"
      ],
      "id": "0b697b14"
    },
    {
      "cell_type": "markdown",
      "metadata": {
        "id": "1883c0b7"
      },
      "source": [
        "## Prepare Test data\n",
        "\n",
        "- Load collection json and retrieve all unique folder ids \n",
        "- Use unique folder ids to create a list of field.tif paths for all tiles\n",
        "- Create competition_test_data dataframe for folder_ids and field_paths\n",
        "- Create test_data dataframe using the feature_extractor with argsss (competition_test_data, source_collection)\n",
        "- Group processed dataset by fields and find the pixel average of across the entire field "
      ],
      "id": "1883c0b7"
    },
    {
      "cell_type": "code",
      "execution_count": null,
      "metadata": {
        "id": "b2b2a7f1"
      },
      "outputs": [],
      "source": [
        "with open (f'{main}/{test_label_collection}/collection.json') as f:\n",
        "    test_json = json.load(f)\n",
        "    \n",
        "test_folder_ids = [i['href'].split('_')[-1].split('.')[0] for i in test_json['links'][4:]]\n",
        "\n",
        "test_field_paths = [f'{main}/{test_label_collection}/{test_label_collection}_{i}/field_ids.tif' for i in test_folder_ids]"
      ],
      "id": "b2b2a7f1"
    },
    {
      "cell_type": "code",
      "execution_count": null,
      "metadata": {
        "id": "faa34425"
      },
      "outputs": [],
      "source": [
        "competition_test_data = pd.DataFrame(test_folder_ids , columns=['unique_folder_id'])\n",
        "competition_test_data['field_paths'] = test_field_paths\n",
        "competition_test_data.head()"
      ],
      "id": "faa34425"
    },
    {
      "cell_type": "code",
      "execution_count": null,
      "metadata": {
        "id": "016a7c68",
        "scrolled": true
      },
      "outputs": [],
      "source": [
        "test_data = feature_extractor(competition_test_data,  source_collection)\n",
        "test_data.head()"
      ],
      "id": "016a7c68"
    },
    {
      "cell_type": "code",
      "execution_count": null,
      "metadata": {
        "id": "cc75de26"
      },
      "outputs": [],
      "source": [
        "# Each field has several pixels in| the data. Here our goal is to build a Random Forest (RF) model using the average values\n",
        "# of the pixels within each field. So, we use `groupby` to take the mean for each field_id\n",
        "\n",
        "test_data_grouped = test_data.groupby(['field_id']).mean().reset_index()\n",
        "test_data_grouped.field_id = [str(int(i)) for i in test_data_grouped.field_id.values]\n",
        "test_data_grouped"
      ],
      "id": "cc75de26"
    },
    {
      "cell_type": "markdown",
      "metadata": {
        "id": "905d25cb"
      },
      "source": [
        "# Submit predictions with field_ids and class probabilites\n",
        "\n",
        "- run predictions with trained model\n",
        "- pass to multioutput predictions to csv file with field_id as index\n",
        "- save output file as submission.csv"
      ],
      "id": "905d25cb"
    },
    {
      "cell_type": "code",
      "execution_count": null,
      "metadata": {
        "id": "de8a6f6b"
      },
      "outputs": [],
      "source": [
        "# extract crop_id-label dictionary\n",
        "\n",
        "with open('/content/drive/MyDrive/ref_agrifieldnet_competition_v1/ref_agrifieldnet_competition_v1_labels_train/ref_agrifieldnet_competition_v1_labels_train_001c1/ref_agrifieldnet_competition_v1_labels_train_001c1.json') as ll:\n",
        "    label_json = json.load(ll)"
      ],
      "id": "de8a6f6b"
    },
    {
      "cell_type": "code",
      "execution_count": null,
      "metadata": {
        "id": "3853430c"
      },
      "outputs": [],
      "source": [
        "crop_dict = {asset.get('values')[0]:asset.get('summary') for asset in label_json['assets']['raster_labels']['file:values']}"
      ],
      "id": "3853430c"
    },
    {
      "cell_type": "code",
      "execution_count": null,
      "metadata": {
        "id": "e15fa339"
      },
      "outputs": [],
      "source": [
        "crop_dict"
      ],
      "id": "e15fa339"
    },
    {
      "cell_type": "code",
      "execution_count": null,
      "metadata": {
        "id": "9e60ae9d"
      },
      "outputs": [],
      "source": [
        "def labeler(labeled):\n",
        "    crop_label = np.array([crop_dict.get(f'{int(i)}') for i in labeled])\n",
        "    return crop_label"
      ],
      "id": "9e60ae9d"
    },
    {
      "cell_type": "code",
      "execution_count": null,
      "metadata": {
        "id": "5fb196f6"
      },
      "outputs": [],
      "source": [
        "predictions = rf.predict_proba(test_data_grouped.drop('field_id', axis=1 ))\n",
        "\n",
        "crop_columns = [crop_dict.get(i) for i in model.classes_]\n",
        "\n",
        "test_df  = pd.DataFrame(columns= ['field_id'] + crop_columns)\n",
        "\n",
        "test_df['field_id'] = test_data_grouped.field_id\n",
        "\n",
        "test_df[crop_columns]= predictions \n",
        "test_df.to_csv('/content/drive/MyDrive/submission.csv', index=False)"
      ],
      "id": "5fb196f6"
    },
    {
      "cell_type": "code",
      "execution_count": null,
      "metadata": {
        "id": "20ec7bf5"
      },
      "outputs": [],
      "source": [
        "test_df.head()"
      ],
      "id": "20ec7bf5"
    },
    {
      "cell_type": "code",
      "execution_count": null,
      "metadata": {
        "id": "cfe4bc99"
      },
      "outputs": [],
      "source": [],
      "id": "cfe4bc99"
    }
  ],
  "metadata": {
    "colab": {
      "collapsed_sections": [
        "1883c0b7"
      ],
      "provenance": [],
      "include_colab_link": true
    },
    "kernelspec": {
      "display_name": "Python 3",
      "name": "python3"
    },
    "language_info": {
      "name": "python"
    }
  },
  "nbformat": 4,
  "nbformat_minor": 5
}